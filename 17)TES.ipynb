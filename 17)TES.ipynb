{
 "cells": [
  {
   "cell_type": "markdown",
   "metadata": {},
   "source": [
    "# Triple Exponential Model"
   ]
  },
  {
   "cell_type": "code",
   "execution_count": 1,
   "metadata": {},
   "outputs": [],
   "source": [
    "import os\n",
    "import numpy as np\n",
    "import pandas as pd\n",
    "import matplotlib.pyplot as plt\n",
    "from statsmodels.tsa.api import ExponentialSmoothing, SimpleExpSmoothing, Holt"
   ]
  },
  {
   "cell_type": "code",
   "execution_count": 2,
   "metadata": {
    "scrolled": true
   },
   "outputs": [
    {
     "data": {
      "text/html": [
       "<div>\n",
       "<style scoped>\n",
       "    .dataframe tbody tr th:only-of-type {\n",
       "        vertical-align: middle;\n",
       "    }\n",
       "\n",
       "    .dataframe tbody tr th {\n",
       "        vertical-align: top;\n",
       "    }\n",
       "\n",
       "    .dataframe thead th {\n",
       "        text-align: right;\n",
       "    }\n",
       "</style>\n",
       "<table border=\"1\" class=\"dataframe\">\n",
       "  <thead>\n",
       "    <tr style=\"text-align: right;\">\n",
       "      <th></th>\n",
       "      <th>Date</th>\n",
       "      <th>Passenger</th>\n",
       "    </tr>\n",
       "  </thead>\n",
       "  <tbody>\n",
       "    <tr>\n",
       "      <th>0</th>\n",
       "      <td>01-01-1949</td>\n",
       "      <td>112</td>\n",
       "    </tr>\n",
       "    <tr>\n",
       "      <th>1</th>\n",
       "      <td>01-02-1949</td>\n",
       "      <td>118</td>\n",
       "    </tr>\n",
       "    <tr>\n",
       "      <th>2</th>\n",
       "      <td>01-03-1949</td>\n",
       "      <td>132</td>\n",
       "    </tr>\n",
       "  </tbody>\n",
       "</table>\n",
       "</div>"
      ],
      "text/plain": [
       "         Date  Passenger\n",
       "0  01-01-1949        112\n",
       "1  01-02-1949        118\n",
       "2  01-03-1949        132"
      ]
     },
     "execution_count": 2,
     "metadata": {},
     "output_type": "execute_result"
    }
   ],
   "source": [
    "data=pd.read_csv(r\"C:\\Users\\Chetan Habib\\Desktop\\Machine Learning\\AirPassenger.csv\")\n",
    "data.head(3)"
   ]
  },
  {
   "cell_type": "code",
   "execution_count": 3,
   "metadata": {
    "scrolled": true
   },
   "outputs": [
    {
     "data": {
      "image/png": "[encoded data removed]",
      "text/plain": [
       "<Figure size 1080x216 with 1 Axes>"
      ]
     },
     "metadata": {
      "needs_background": "light"
     },
     "output_type": "display_data"
    }
   ],
   "source": [
    "data.plot.line(x = 'Date',y = 'Passenger',figsize=(15,3))\n",
    "plt.show()  # Trend , Seasonal"
   ]
  },
  {
   "cell_type": "code",
   "execution_count": 4,
   "metadata": {},
   "outputs": [
    {
     "data": {
      "text/html": [
       "<div>\n",
       "<style scoped>\n",
       "    .dataframe tbody tr th:only-of-type {\n",
       "        vertical-align: middle;\n",
       "    }\n",
       "\n",
       "    .dataframe tbody tr th {\n",
       "        vertical-align: top;\n",
       "    }\n",
       "\n",
       "    .dataframe thead th {\n",
       "        text-align: right;\n",
       "    }\n",
       "</style>\n",
       "<table border=\"1\" class=\"dataframe\">\n",
       "  <thead>\n",
       "    <tr style=\"text-align: right;\">\n",
       "      <th></th>\n",
       "      <th>Passenger</th>\n",
       "    </tr>\n",
       "    <tr>\n",
       "      <th>Date</th>\n",
       "      <th></th>\n",
       "    </tr>\n",
       "  </thead>\n",
       "  <tbody>\n",
       "    <tr>\n",
       "      <th>01-01-1949</th>\n",
       "      <td>112</td>\n",
       "    </tr>\n",
       "    <tr>\n",
       "      <th>01-02-1949</th>\n",
       "      <td>118</td>\n",
       "    </tr>\n",
       "    <tr>\n",
       "      <th>01-03-1949</th>\n",
       "      <td>132</td>\n",
       "    </tr>\n",
       "    <tr>\n",
       "      <th>01-04-1949</th>\n",
       "      <td>129</td>\n",
       "    </tr>\n",
       "    <tr>\n",
       "      <th>01-05-1949</th>\n",
       "      <td>121</td>\n",
       "    </tr>\n",
       "  </tbody>\n",
       "</table>\n",
       "</div>"
      ],
      "text/plain": [
       "            Passenger\n",
       "Date                 \n",
       "01-01-1949        112\n",
       "01-02-1949        118\n",
       "01-03-1949        132\n",
       "01-04-1949        129\n",
       "01-05-1949        121"
      ]
     },
     "execution_count": 4,
     "metadata": {},
     "output_type": "execute_result"
    }
   ],
   "source": [
    "data2=data.set_index(\"Date\")\n",
    "data2.head()"
   ]
  },
  {
   "cell_type": "markdown",
   "metadata": {},
   "source": [
    "abc=np.array([0.88,0.93,1.04,1.02,0.96,1.07,1.17,1.17,1.07,0.94,0.82,0.93])"
   ]
  },
  {
   "cell_type": "markdown",
   "metadata": {},
   "source": [
    "#### Auto Model"
   ]
  },
  {
   "cell_type": "code",
   "execution_count": 5,
   "metadata": {
    "scrolled": false
   },
   "outputs": [
    {
     "name": "stderr",
     "output_type": "stream",
     "text": [
      "C:\\ProgramData\\Anaconda3\\lib\\site-packages\\statsmodels\\tsa\\base\\tsa_model.py:471: ValueWarning: A date index has been provided, but it has no associated frequency information and so will be ignored when e.g. forecasting.\n",
      "  self._init_dates(dates, freq)\n"
     ]
    },
    {
     "data": {
      "text/plain": [
       "{'smoothing_level': 0.318576371803696,\n",
       " 'smoothing_trend': 5.380954242859452e-08,\n",
       " 'smoothing_seasonal': 0.6013457302289144,\n",
       " 'damping_trend': nan,\n",
       " 'initial_level': 102.54484051507897,\n",
       " 'initial_trend': 2.4111368439877503,\n",
       " 'initial_seasons': array([1.06149954, 1.11635748, 1.23277036, 1.17598123, 1.09782071,\n",
       "        1.1988954 , 1.30367509, 1.28767073, 1.17398358, 1.02414035,\n",
       "        0.90691178, 1.03870969]),\n",
       " 'use_boxcox': False,\n",
       " 'lamda': None,\n",
       " 'remove_bias': False}"
      ]
     },
     "execution_count": 5,
     "metadata": {},
     "output_type": "execute_result"
    }
   ],
   "source": [
    "model2 = ExponentialSmoothing(data2,trend='add',seasonal='mul',seasonal_periods=12).fit()\n",
    "model2.params\n",
    "          # initial_seasons=np.array([0.88,0.93,1.04,1.02,0.96,1.07,1.17,1.17,1.07,0.94,0.82,0.93]))"
   ]
  },
  {
   "cell_type": "code",
   "execution_count": 6,
   "metadata": {},
   "outputs": [
    {
     "data": {
      "text/plain": [
       "Date\n",
       "01-01-1949    111.410722\n",
       "01-02-1949    120.057513\n",
       "01-03-1949    134.825567\n",
       "01-04-1949    130.591416\n",
       "01-05-1949    124.085481\n",
       "                 ...    \n",
       "01-08-1960    625.008333\n",
       "01-09-1960    506.744673\n",
       "01-10-1960    443.213166\n",
       "01-11-1960    393.493614\n",
       "01-12-1960    432.351121\n",
       "Length: 144, dtype: float64"
      ]
     },
     "execution_count": 6,
     "metadata": {},
     "output_type": "execute_result"
    }
   ],
   "source": [
    "model2.fittedvalues"
   ]
  },
  {
   "cell_type": "code",
   "execution_count": 7,
   "metadata": {},
   "outputs": [
    {
     "data": {
      "text/html": [
       "<div>\n",
       "<style scoped>\n",
       "    .dataframe tbody tr th:only-of-type {\n",
       "        vertical-align: middle;\n",
       "    }\n",
       "\n",
       "    .dataframe tbody tr th {\n",
       "        vertical-align: top;\n",
       "    }\n",
       "\n",
       "    .dataframe thead th {\n",
       "        text-align: right;\n",
       "    }\n",
       "</style>\n",
       "<table border=\"1\" class=\"dataframe\">\n",
       "  <thead>\n",
       "    <tr style=\"text-align: right;\">\n",
       "      <th></th>\n",
       "      <th>Actual</th>\n",
       "      <th>Level</th>\n",
       "      <th>Trend</th>\n",
       "      <th>Seasonal</th>\n",
       "      <th>Forecast</th>\n",
       "    </tr>\n",
       "  </thead>\n",
       "  <tbody>\n",
       "    <tr>\n",
       "      <th>0</th>\n",
       "      <td>112.0</td>\n",
       "      <td>105.132831</td>\n",
       "      <td>2.411137</td>\n",
       "      <td>1.064876</td>\n",
       "      <td>111.410722</td>\n",
       "    </tr>\n",
       "    <tr>\n",
       "      <th>1</th>\n",
       "      <td>118.0</td>\n",
       "      <td>106.956813</td>\n",
       "      <td>2.411137</td>\n",
       "      <td>1.104853</td>\n",
       "      <td>120.057513</td>\n",
       "    </tr>\n",
       "    <tr>\n",
       "      <th>2</th>\n",
       "      <td>132.0</td>\n",
       "      <td>108.637758</td>\n",
       "      <td>2.411137</td>\n",
       "      <td>1.217234</td>\n",
       "      <td>134.825567</td>\n",
       "    </tr>\n",
       "    <tr>\n",
       "      <th>3</th>\n",
       "      <td>129.0</td>\n",
       "      <td>110.617776</td>\n",
       "      <td>2.411137</td>\n",
       "      <td>1.167363</td>\n",
       "      <td>130.591416</td>\n",
       "    </tr>\n",
       "    <tr>\n",
       "      <th>4</th>\n",
       "      <td>121.0</td>\n",
       "      <td>112.133538</td>\n",
       "      <td>2.411137</td>\n",
       "      <td>1.081405</td>\n",
       "      <td>124.085481</td>\n",
       "    </tr>\n",
       "    <tr>\n",
       "      <th>...</th>\n",
       "      <td>...</td>\n",
       "      <td>...</td>\n",
       "      <td>...</td>\n",
       "      <td>...</td>\n",
       "      <td>...</td>\n",
       "    </tr>\n",
       "    <tr>\n",
       "      <th>139</th>\n",
       "      <td>606.0</td>\n",
       "      <td>430.276423</td>\n",
       "      <td>2.411136</td>\n",
       "      <td>1.412192</td>\n",
       "      <td>625.008333</td>\n",
       "    </tr>\n",
       "    <tr>\n",
       "      <th>140</th>\n",
       "      <td>508.0</td>\n",
       "      <td>433.029032</td>\n",
       "      <td>2.411136</td>\n",
       "      <td>1.172901</td>\n",
       "      <td>506.744673</td>\n",
       "    </tr>\n",
       "    <tr>\n",
       "      <th>141</th>\n",
       "      <td>461.0</td>\n",
       "      <td>441.007256</td>\n",
       "      <td>2.411137</td>\n",
       "      <td>1.042415</td>\n",
       "      <td>443.213166</td>\n",
       "    </tr>\n",
       "    <tr>\n",
       "      <th>142</th>\n",
       "      <td>390.0</td>\n",
       "      <td>442.164199</td>\n",
       "      <td>2.411137</td>\n",
       "      <td>0.882671</td>\n",
       "      <td>393.493614</td>\n",
       "    </tr>\n",
       "    <tr>\n",
       "      <th>143</th>\n",
       "      <td>432.0</td>\n",
       "      <td>444.460314</td>\n",
       "      <td>2.411137</td>\n",
       "      <td>0.972029</td>\n",
       "      <td>432.351121</td>\n",
       "    </tr>\n",
       "  </tbody>\n",
       "</table>\n",
       "<p>144 rows × 5 columns</p>\n",
       "</div>"
      ],
      "text/plain": [
       "     Actual       Level     Trend  Seasonal    Forecast\n",
       "0     112.0  105.132831  2.411137  1.064876  111.410722\n",
       "1     118.0  106.956813  2.411137  1.104853  120.057513\n",
       "2     132.0  108.637758  2.411137  1.217234  134.825567\n",
       "3     129.0  110.617776  2.411137  1.167363  130.591416\n",
       "4     121.0  112.133538  2.411137  1.081405  124.085481\n",
       "..      ...         ...       ...       ...         ...\n",
       "139   606.0  430.276423  2.411136  1.412192  625.008333\n",
       "140   508.0  433.029032  2.411136  1.172901  506.744673\n",
       "141   461.0  441.007256  2.411137  1.042415  443.213166\n",
       "142   390.0  442.164199  2.411137  0.882671  393.493614\n",
       "143   432.0  444.460314  2.411137  0.972029  432.351121\n",
       "\n",
       "[144 rows x 5 columns]"
      ]
     },
     "execution_count": 7,
     "metadata": {},
     "output_type": "execute_result"
    }
   ],
   "source": [
    "df = pd.DataFrame(\n",
    "    np.c_[data.Passenger, model2.level, model2.trend, model2.season,model2.fittedvalues],\n",
    "    columns=[\"Actual\",\"Level\",\"Trend\",\"Seasonal\",\"Forecast\"])\n",
    "df"
   ]
  },
  {
   "cell_type": "markdown",
   "metadata": {},
   "source": [
    "### Future Forecast "
   ]
  },
  {
   "cell_type": "code",
   "execution_count": 8,
   "metadata": {},
   "outputs": [
    {
     "name": "stderr",
     "output_type": "stream",
     "text": [
      "C:\\ProgramData\\Anaconda3\\lib\\site-packages\\statsmodels\\tsa\\base\\tsa_model.py:834: ValueWarning: No supported index is available. Prediction results will be given with an integer index beginning at `start`.\n",
      "  return get_prediction_index(\n"
     ]
    },
    {
     "data": {
      "text/plain": [
       "144    445.242477\n",
       "145    418.225362\n",
       "146    465.309892\n",
       "147    494.950481\n",
       "148    505.475429\n",
       "149    573.312196\n",
       "150    663.595482\n",
       "151    654.903174\n",
       "152    546.760046\n",
       "153    488.445975\n",
       "154    415.723073\n",
       "155    460.377330\n",
       "156    474.070644\n",
       "157    445.158926\n",
       "158    495.115726\n",
       "159    526.486629\n",
       "160    537.512080\n",
       "161    609.457385\n",
       "162    705.214037\n",
       "163    695.763025\n",
       "164    580.696332\n",
       "165    518.606824\n",
       "166    441.261970\n",
       "167    488.515399\n",
       "dtype: float64"
      ]
     },
     "execution_count": 8,
     "metadata": {},
     "output_type": "execute_result"
    }
   ],
   "source": [
    "Forecast2 = model2.forecast(24)\n",
    "Forecast2"
   ]
  },
  {
   "cell_type": "markdown",
   "metadata": {},
   "source": [
    "#### Forecast Plot"
   ]
  },
  {
   "cell_type": "code",
   "execution_count": 9,
   "metadata": {},
   "outputs": [
    {
     "data": {
      "text/plain": [
       "<AxesSubplot:xlabel='Date'>"
      ]
     },
     "execution_count": 9,
     "metadata": {},
     "output_type": "execute_result"
    },
    {
     "data": {
      "image/png": "[encoded data removed]",
      "text/plain": [
       "<Figure size 1080x216 with 1 Axes>"
      ]
     },
     "metadata": {
      "needs_background": "light"
     },
     "output_type": "display_data"
    }
   ],
   "source": [
    "# plot\n",
    "Forecast2.plot(marker='o', color='green')\n",
    "model2.fittedvalues.plot(marker='o',  color='blue',figsize=(15,3))"
   ]
  },
  {
   "cell_type": "code",
   "execution_count": 10,
   "metadata": {},
   "outputs": [
    {
     "data": {
      "text/html": [
       "<div>\n",
       "<style scoped>\n",
       "    .dataframe tbody tr th:only-of-type {\n",
       "        vertical-align: middle;\n",
       "    }\n",
       "\n",
       "    .dataframe tbody tr th {\n",
       "        vertical-align: top;\n",
       "    }\n",
       "\n",
       "    .dataframe thead th {\n",
       "        text-align: right;\n",
       "    }\n",
       "</style>\n",
       "<table border=\"1\" class=\"dataframe\">\n",
       "  <thead>\n",
       "    <tr style=\"text-align: right;\">\n",
       "      <th></th>\n",
       "      <th>Passenger</th>\n",
       "      <th>Forecast</th>\n",
       "    </tr>\n",
       "    <tr>\n",
       "      <th>Date</th>\n",
       "      <th></th>\n",
       "      <th></th>\n",
       "    </tr>\n",
       "  </thead>\n",
       "  <tbody>\n",
       "    <tr>\n",
       "      <th>01-01-1949</th>\n",
       "      <td>112</td>\n",
       "      <td>111.410722</td>\n",
       "    </tr>\n",
       "    <tr>\n",
       "      <th>01-02-1949</th>\n",
       "      <td>118</td>\n",
       "      <td>120.057513</td>\n",
       "    </tr>\n",
       "    <tr>\n",
       "      <th>01-03-1949</th>\n",
       "      <td>132</td>\n",
       "      <td>134.825567</td>\n",
       "    </tr>\n",
       "    <tr>\n",
       "      <th>01-04-1949</th>\n",
       "      <td>129</td>\n",
       "      <td>130.591416</td>\n",
       "    </tr>\n",
       "    <tr>\n",
       "      <th>01-05-1949</th>\n",
       "      <td>121</td>\n",
       "      <td>124.085481</td>\n",
       "    </tr>\n",
       "  </tbody>\n",
       "</table>\n",
       "</div>"
      ],
      "text/plain": [
       "            Passenger    Forecast\n",
       "Date                             \n",
       "01-01-1949        112  111.410722\n",
       "01-02-1949        118  120.057513\n",
       "01-03-1949        132  134.825567\n",
       "01-04-1949        129  130.591416\n",
       "01-05-1949        121  124.085481"
      ]
     },
     "execution_count": 10,
     "metadata": {},
     "output_type": "execute_result"
    }
   ],
   "source": [
    "data2[\"Forecast\"]=model2.fittedvalues\n",
    "data2.head()"
   ]
  },
  {
   "cell_type": "markdown",
   "metadata": {},
   "source": [
    "#### Accuracy of Model"
   ]
  },
  {
   "cell_type": "code",
   "execution_count": 11,
   "metadata": {},
   "outputs": [
    {
     "data": {
      "text/plain": [
       "3.0839272502163118"
      ]
     },
     "execution_count": 11,
     "metadata": {},
     "output_type": "execute_result"
    }
   ],
   "source": [
    "mean_absolute_percentage_error = np.mean(np.abs(data2.Passenger - data2.Forecast)/np.abs(data2.Passenger))*100\n",
    "mean_absolute_percentage_error"
   ]
  },
  {
   "cell_type": "markdown",
   "metadata": {},
   "source": [
    "# Finished "
   ]
  }
 ],
 "metadata": {
  "kernelspec": {
   "display_name": "Python 3 (ipykernel)",
   "language": "python",
   "name": "python3"
  },
  "language_info": {
   "codemirror_mode": {
    "name": "ipython",
    "version": 3
   },
   "file_extension": ".py",
   "mimetype": "text/x-python",
   "name": "python",
   "nbconvert_exporter": "python",
   "pygments_lexer": "ipython3",
   "version": "3.9.12"
  }
 },
 "nbformat": 4,
 "nbformat_minor": 4
}
