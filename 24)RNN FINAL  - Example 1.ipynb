{
 "cells": [
  {
   "cell_type": "code",
   "execution_count": 37,
   "metadata": {},
   "outputs": [],
   "source": [
    "#################### Data Processing ######################\n",
    "from numpy import array\n",
    "from keras.preprocessing.text import Tokenizer\n",
    "from keras.utils import to_categorical\n",
    "\n",
    "##################### Model building #####################\n",
    "from keras.models import Sequential\n",
    "from keras.layers import Dense\n",
    "from keras.layers import LSTM\n",
    "from keras.layers import Embedding"
   ]
  },
  {
   "cell_type": "code",
   "execution_count": 38,
   "metadata": {},
   "outputs": [
    {
     "data": {
      "text/plain": [
       "'California is a state in the Western United States. California borders Oregon to the north, Nevada and Arizona to the east, the Mexican state of Baja California to the south; and has a coastline along the Pacific Ocean to the west.'"
      ]
     },
     "execution_count": 38,
     "metadata": {},
     "output_type": "execute_result"
    }
   ],
   "source": [
    "data=\"California is a state in the Western United States. California borders Oregon to the north, Nevada and Arizona to the east, the Mexican state of Baja California to the south; and has a coastline along the Pacific Ocean to the west.\"\n",
    "\n",
    "data"
   ]
  },
  {
   "cell_type": "markdown",
   "metadata": {},
   "source": [
    "# Data Pre-Processing "
   ]
  },
  {
   "cell_type": "code",
   "execution_count": 39,
   "metadata": {},
   "outputs": [
    {
     "data": {
      "text/plain": [
       "'california is a state in the western united states. california borders oregon to the north, nevada and arizona to the east, the mexican state of baja california to the south; and has a coastline along the pacific ocean to the west.'"
      ]
     },
     "execution_count": 39,
     "metadata": {},
     "output_type": "execute_result"
    }
   ],
   "source": [
    "# cleaning the data\n",
    "data= data.lower()           # Converting the string to lower case to get uniformity\n",
    "data"
   ]
  },
  {
   "cell_type": "code",
   "execution_count": 40,
   "metadata": {},
   "outputs": [
    {
     "data": {
      "text/plain": [
       "'!\"#$%&\\'()*+,-./:;<=>?@[\\\\]^_`{|}~'"
      ]
     },
     "execution_count": 40,
     "metadata": {},
     "output_type": "execute_result"
    }
   ],
   "source": [
    "import string\n",
    "string.punctuation"
   ]
  },
  {
   "cell_type": "code",
   "execution_count": 41,
   "metadata": {},
   "outputs": [],
   "source": [
    "def remove_punctuation(text):\n",
    "    text_nopunt=\"\".join([c \n",
    "                         for c in text\n",
    "                         if c not in string.punctuation])\n",
    "    return text_nopunt"
   ]
  },
  {
   "cell_type": "code",
   "execution_count": 42,
   "metadata": {},
   "outputs": [
    {
     "data": {
      "text/plain": [
       "'california is a state in the western united states california borders oregon to the north nevada and arizona to the east the mexican state of baja california to the south and has a coastline along the pacific ocean to the west'"
      ]
     },
     "execution_count": 42,
     "metadata": {},
     "output_type": "execute_result"
    }
   ],
   "source": [
    "data=remove_punctuation(data)\n",
    "\n",
    "data"
   ]
  },
  {
   "cell_type": "code",
   "execution_count": 43,
   "metadata": {},
   "outputs": [
    {
     "name": "stdout",
     "output_type": "stream",
     "text": [
      "Word Token:  \n",
      " ['california', 'is', 'a', 'state', 'in', 'the', 'western', 'united', 'states', 'california', 'borders', 'oregon', 'to', 'the', 'north', 'nevada', 'and', 'arizona', 'to', 'the', 'east', 'the', 'mexican', 'state', 'of', 'baja', 'california', 'to', 'the', 'south', 'and', 'has', 'a', 'coastline', 'along', 'the', 'pacific', 'ocean', 'to', 'the', 'west']\n"
     ]
    }
   ],
   "source": [
    "from nltk.corpus import stopwords\n",
    "from nltk.tokenize import word_tokenize\n",
    "\n",
    "stop_words = set(stopwords.words('english'))\n",
    "  \n",
    "text_tokens = word_tokenize(data)\n",
    "print(\"Word Token:  \\n\",text_tokens)"
   ]
  },
  {
   "cell_type": "code",
   "execution_count": 44,
   "metadata": {
    "scrolled": false
   },
   "outputs": [
    {
     "name": "stdout",
     "output_type": "stream",
     "text": [
      "Word Without StopWords:  \n",
      " ['california', 'state', 'western', 'united', 'states', 'california', 'borders', 'oregon', 'north', 'nevada', 'arizona', 'east', 'mexican', 'state', 'baja', 'california', 'south', 'coastline', 'pacific', 'ocean', 'west']\n"
     ]
    }
   ],
   "source": [
    "tokens_without_sw = [word \n",
    "                     for word in text_tokens \n",
    "                     if not word in stopwords.words()]\n",
    "print(\"Word Without StopWords:  \\n\",tokens_without_sw)"
   ]
  },
  {
   "cell_type": "code",
   "execution_count": 45,
   "metadata": {},
   "outputs": [
    {
     "data": {
      "text/plain": [
       "'california state western united states california borders oregon north nevada arizona east mexican state baja california south coastline pacific ocean west'"
      ]
     },
     "execution_count": 45,
     "metadata": {},
     "output_type": "execute_result"
    }
   ],
   "source": [
    "data = (\" \").join(tokens_without_sw)\n",
    "data"
   ]
  },
  {
   "cell_type": "code",
   "execution_count": 46,
   "metadata": {},
   "outputs": [
    {
     "data": {
      "text/plain": [
       "[1, 2, 3, 4, 5, 1, 6, 7, 8, 9, 10, 11, 12, 2, 13, 1, 14, 15, 16, 17, 18]"
      ]
     },
     "execution_count": 46,
     "metadata": {},
     "output_type": "execute_result"
    }
   ],
   "source": [
    "# Instantiating the Tokenizer\n",
    "tokenizer = Tokenizer()\n",
    "tokenizer.fit_on_texts([data])  ## convert sentance to word  \n",
    "sequence_data = tokenizer.texts_to_sequences([data])[0]  # mode concept for sequence \n",
    "sequence_data   "
   ]
  },
  {
   "cell_type": "code",
   "execution_count": 47,
   "metadata": {},
   "outputs": [
    {
     "name": "stdout",
     "output_type": "stream",
     "text": [
      "18\n"
     ]
    }
   ],
   "source": [
    "# Getting the total number of words of the data.\n",
    "word2idx = tokenizer.word_index  ####### index number to every token ro word \n",
    "print(len(word2idx))"
   ]
  },
  {
   "cell_type": "code",
   "execution_count": 48,
   "metadata": {},
   "outputs": [
    {
     "name": "stdout",
     "output_type": "stream",
     "text": [
      "{'california': 1, 'state': 2, 'western': 3, 'united': 4, 'states': 5, 'borders': 6, 'oregon': 7, 'north': 8, 'nevada': 9, 'arizona': 10, 'east': 11, 'mexican': 12, 'baja': 13, 'south': 14, 'coastline': 15, 'pacific': 16, 'ocean': 17, 'west': 18}\n"
     ]
    }
   ],
   "source": [
    "print(word2idx)"
   ]
  },
  {
   "cell_type": "code",
   "execution_count": 49,
   "metadata": {},
   "outputs": [
    {
     "name": "stdout",
     "output_type": "stream",
     "text": [
      "19\n"
     ]
    }
   ],
   "source": [
    "vocab_size = len(word2idx) + 1    ### Get unique words\n",
    "print(vocab_size)         # california = 0+1   "
   ]
  },
  {
   "cell_type": "code",
   "execution_count": 50,
   "metadata": {},
   "outputs": [
    {
     "data": {
      "text/plain": [
       "[1, 2, 3, 4, 5, 1, 6, 7, 8, 9, 10, 11, 12, 2, 13, 1, 14, 15, 16, 17, 18]"
      ]
     },
     "execution_count": 50,
     "metadata": {},
     "output_type": "execute_result"
    }
   ],
   "source": [
    "sequence_data"
   ]
  },
  {
   "cell_type": "code",
   "execution_count": 51,
   "metadata": {},
   "outputs": [
    {
     "name": "stdout",
     "output_type": "stream",
     "text": [
      "18\n"
     ]
    }
   ],
   "source": [
    "sequences = []  # empty list \n",
    "for i in range(3,len(sequence_data)): # i = 3 to 20 # sequence_data= count of words\n",
    "    abc=sequence_data[i-3:i+1] # 0,1\n",
    "    sequences.append(abc)\n",
    "\n",
    "print(len(sequences))"
   ]
  },
  {
   "cell_type": "code",
   "execution_count": 52,
   "metadata": {},
   "outputs": [
    {
     "data": {
      "text/plain": [
       "[[1, 2, 3, 4],\n",
       " [2, 3, 4, 5],\n",
       " [3, 4, 5, 1],\n",
       " [4, 5, 1, 6],\n",
       " [5, 1, 6, 7],\n",
       " [1, 6, 7, 8],\n",
       " [6, 7, 8, 9],\n",
       " [7, 8, 9, 10],\n",
       " [8, 9, 10, 11],\n",
       " [9, 10, 11, 12],\n",
       " [10, 11, 12, 2],\n",
       " [11, 12, 2, 13],\n",
       " [12, 2, 13, 1],\n",
       " [2, 13, 1, 14],\n",
       " [13, 1, 14, 15],\n",
       " [1, 14, 15, 16],\n",
       " [14, 15, 16, 17],\n",
       " [15, 16, 17, 18]]"
      ]
     },
     "execution_count": 52,
     "metadata": {},
     "output_type": "execute_result"
    }
   ],
   "source": [
    "sequences"
   ]
  },
  {
   "cell_type": "code",
   "execution_count": 53,
   "metadata": {},
   "outputs": [
    {
     "data": {
      "text/plain": [
       "array([[ 1,  2,  3,  4],\n",
       "       [ 2,  3,  4,  5],\n",
       "       [ 3,  4,  5,  1],\n",
       "       [ 4,  5,  1,  6],\n",
       "       [ 5,  1,  6,  7],\n",
       "       [ 1,  6,  7,  8],\n",
       "       [ 6,  7,  8,  9],\n",
       "       [ 7,  8,  9, 10],\n",
       "       [ 8,  9, 10, 11],\n",
       "       [ 9, 10, 11, 12],\n",
       "       [10, 11, 12,  2],\n",
       "       [11, 12,  2, 13],\n",
       "       [12,  2, 13,  1],\n",
       "       [ 2, 13,  1, 14],\n",
       "       [13,  1, 14, 15],\n",
       "       [ 1, 14, 15, 16],\n",
       "       [14, 15, 16, 17],\n",
       "       [15, 16, 17, 18]])"
      ]
     },
     "execution_count": 53,
     "metadata": {},
     "output_type": "execute_result"
    }
   ],
   "source": [
    "import numpy as np\n",
    "sequences=np.array(sequences)\n",
    "sequences"
   ]
  },
  {
   "cell_type": "code",
   "execution_count": 54,
   "metadata": {},
   "outputs": [],
   "source": [
    "X = []\n",
    "Y = []\n",
    "for i in sequences: \n",
    "    X.append(i[0:3])  # i = 0,1,2\n",
    "    Y.append(i[3])\n",
    "\n",
    "X = np.array(X)\n",
    "Y = np.array(Y)"
   ]
  },
  {
   "cell_type": "code",
   "execution_count": 55,
   "metadata": {},
   "outputs": [
    {
     "name": "stdout",
     "output_type": "stream",
     "text": [
      "Data [[1 2 3]\n",
      " [2 3 4]\n",
      " [3 4 5]\n",
      " [4 5 1]\n",
      " [5 1 6]]\n",
      "Response [4 5 1 6 7]\n"
     ]
    }
   ],
   "source": [
    "print(\"Data\" , X[:5])\n",
    "print(\"Response\" , Y[:5])"
   ]
  },
  {
   "cell_type": "code",
   "execution_count": 56,
   "metadata": {},
   "outputs": [
    {
     "data": {
      "text/plain": [
       "array([ 4,  5,  1,  6,  7,  8,  9, 10, 11, 12,  2, 13,  1, 14, 15, 16, 17,\n",
       "       18])"
      ]
     },
     "execution_count": 56,
     "metadata": {},
     "output_type": "execute_result"
    }
   ],
   "source": [
    "Y"
   ]
  },
  {
   "cell_type": "code",
   "execution_count": 57,
   "metadata": {},
   "outputs": [
    {
     "data": {
      "text/plain": [
       "array([[0., 0., 0., 0., 1., 0., 0., 0., 0., 0., 0., 0., 0., 0., 0., 0.,\n",
       "        0., 0., 0.],\n",
       "       [0., 0., 0., 0., 0., 1., 0., 0., 0., 0., 0., 0., 0., 0., 0., 0.,\n",
       "        0., 0., 0.],\n",
       "       [0., 1., 0., 0., 0., 0., 0., 0., 0., 0., 0., 0., 0., 0., 0., 0.,\n",
       "        0., 0., 0.],\n",
       "       [0., 0., 0., 0., 0., 0., 1., 0., 0., 0., 0., 0., 0., 0., 0., 0.,\n",
       "        0., 0., 0.],\n",
       "       [0., 0., 0., 0., 0., 0., 0., 1., 0., 0., 0., 0., 0., 0., 0., 0.,\n",
       "        0., 0., 0.]], dtype=float32)"
      ]
     },
     "execution_count": 57,
     "metadata": {},
     "output_type": "execute_result"
    }
   ],
   "source": [
    "Y=to_categorical(Y,num_classes=vocab_size)  # Matrix of Y  \n",
    "Y[:5]"
   ]
  },
  {
   "cell_type": "markdown",
   "metadata": {},
   "source": [
    "# Model Building"
   ]
  },
  {
   "cell_type": "code",
   "execution_count": 58,
   "metadata": {},
   "outputs": [],
   "source": [
    "model = Sequential()\n",
    "model.add(Embedding(vocab_size,10, input_length=3)) # data import\n",
    "model.add(LSTM(50,return_sequences=True)) # LSTM1\n",
    "model.add(LSTM(50))  # LSTM2\n",
    "model.add(Dense(50,activation='relu')) # HIDDEN LAYER\n",
    "model.add(Dense(vocab_size, activation='softmax'))"
   ]
  },
  {
   "cell_type": "code",
   "execution_count": 59,
   "metadata": {},
   "outputs": [
    {
     "name": "stdout",
     "output_type": "stream",
     "text": [
      "Model: \"sequential_1\"\n",
      "_________________________________________________________________\n",
      " Layer (type)                Output Shape              Param #   \n",
      "=================================================================\n",
      " embedding_1 (Embedding)     (None, 3, 10)             190       \n",
      "                                                                 \n",
      " lstm_2 (LSTM)               (None, 3, 50)             12200     \n",
      "                                                                 \n",
      " lstm_3 (LSTM)               (None, 50)                20200     \n",
      "                                                                 \n",
      " dense_2 (Dense)             (None, 50)                2550      \n",
      "                                                                 \n",
      " dense_3 (Dense)             (None, 19)                969       \n",
      "                                                                 \n",
      "=================================================================\n",
      "Total params: 36,109\n",
      "Trainable params: 36,109\n",
      "Non-trainable params: 0\n",
      "_________________________________________________________________\n"
     ]
    }
   ],
   "source": [
    "model.summary()"
   ]
  },
  {
   "cell_type": "code",
   "execution_count": 60,
   "metadata": {},
   "outputs": [],
   "source": [
    "model.compile(optimizer='adam',loss = 'categorical_crossentropy',metrics=['accuracy'])"
   ]
  },
  {
   "cell_type": "code",
   "execution_count": 61,
   "metadata": {},
   "outputs": [
    {
     "name": "stdout",
     "output_type": "stream",
     "text": [
      "Epoch 1/100\n",
      "1/1 [==============================] - 8s 8s/step - loss: 2.9444 - accuracy: 0.0556\n",
      "Epoch 2/100\n",
      "1/1 [==============================] - 0s 18ms/step - loss: 2.9436 - accuracy: 0.1111\n",
      "Epoch 3/100\n",
      "1/1 [==============================] - 0s 21ms/step - loss: 2.9428 - accuracy: 0.1667\n",
      "Epoch 4/100\n",
      "1/1 [==============================] - 0s 20ms/step - loss: 2.9421 - accuracy: 0.1667\n",
      "Epoch 5/100\n",
      "1/1 [==============================] - 0s 20ms/step - loss: 2.9414 - accuracy: 0.1111\n",
      "Epoch 6/100\n",
      "1/1 [==============================] - 0s 19ms/step - loss: 2.9406 - accuracy: 0.1111\n",
      "Epoch 7/100\n",
      "1/1 [==============================] - 0s 21ms/step - loss: 2.9397 - accuracy: 0.1111\n",
      "Epoch 8/100\n",
      "1/1 [==============================] - 0s 24ms/step - loss: 2.9389 - accuracy: 0.1111\n",
      "Epoch 9/100\n",
      "1/1 [==============================] - 0s 16ms/step - loss: 2.9380 - accuracy: 0.1111\n",
      "Epoch 10/100\n",
      "1/1 [==============================] - 0s 16ms/step - loss: 2.9370 - accuracy: 0.1111\n",
      "Epoch 11/100\n",
      "1/1 [==============================] - 0s 21ms/step - loss: 2.9360 - accuracy: 0.1111\n",
      "Epoch 12/100\n",
      "1/1 [==============================] - 0s 21ms/step - loss: 2.9349 - accuracy: 0.1111\n",
      "Epoch 13/100\n",
      "1/1 [==============================] - 0s 16ms/step - loss: 2.9338 - accuracy: 0.1111\n",
      "Epoch 14/100\n",
      "1/1 [==============================] - 0s 14ms/step - loss: 2.9326 - accuracy: 0.1111\n",
      "Epoch 15/100\n",
      "1/1 [==============================] - 0s 13ms/step - loss: 2.9314 - accuracy: 0.1111\n",
      "Epoch 16/100\n",
      "1/1 [==============================] - 0s 15ms/step - loss: 2.9301 - accuracy: 0.1111\n",
      "Epoch 17/100\n",
      "1/1 [==============================] - 0s 15ms/step - loss: 2.9286 - accuracy: 0.1111\n",
      "Epoch 18/100\n",
      "1/1 [==============================] - 0s 17ms/step - loss: 2.9272 - accuracy: 0.1111\n",
      "Epoch 19/100\n",
      "1/1 [==============================] - 0s 17ms/step - loss: 2.9256 - accuracy: 0.1111\n",
      "Epoch 20/100\n",
      "1/1 [==============================] - 0s 16ms/step - loss: 2.9239 - accuracy: 0.1111\n",
      "Epoch 21/100\n",
      "1/1 [==============================] - 0s 14ms/step - loss: 2.9220 - accuracy: 0.1111\n",
      "Epoch 22/100\n",
      "1/1 [==============================] - 0s 14ms/step - loss: 2.9201 - accuracy: 0.1111\n",
      "Epoch 23/100\n",
      "1/1 [==============================] - 0s 18ms/step - loss: 2.9180 - accuracy: 0.1111\n",
      "Epoch 24/100\n",
      "1/1 [==============================] - 0s 14ms/step - loss: 2.9157 - accuracy: 0.1111\n",
      "Epoch 25/100\n",
      "1/1 [==============================] - 0s 11ms/step - loss: 2.9132 - accuracy: 0.1111\n",
      "Epoch 26/100\n",
      "1/1 [==============================] - 0s 18ms/step - loss: 2.9106 - accuracy: 0.1111\n",
      "Epoch 27/100\n",
      "1/1 [==============================] - 0s 15ms/step - loss: 2.9077 - accuracy: 0.1111\n",
      "Epoch 28/100\n",
      "1/1 [==============================] - 0s 10ms/step - loss: 2.9046 - accuracy: 0.1111\n",
      "Epoch 29/100\n",
      "1/1 [==============================] - 0s 15ms/step - loss: 2.9012 - accuracy: 0.1111\n",
      "Epoch 30/100\n",
      "1/1 [==============================] - 0s 17ms/step - loss: 2.8975 - accuracy: 0.1111\n",
      "Epoch 31/100\n",
      "1/1 [==============================] - 0s 14ms/step - loss: 2.8935 - accuracy: 0.1111\n",
      "Epoch 32/100\n",
      "1/1 [==============================] - 0s 9ms/step - loss: 2.8891 - accuracy: 0.1111\n",
      "Epoch 33/100\n",
      "1/1 [==============================] - 0s 14ms/step - loss: 2.8843 - accuracy: 0.1111\n",
      "Epoch 34/100\n",
      "1/1 [==============================] - 0s 17ms/step - loss: 2.8791 - accuracy: 0.1111\n",
      "Epoch 35/100\n",
      "1/1 [==============================] - 0s 10ms/step - loss: 2.8734 - accuracy: 0.1111\n",
      "Epoch 36/100\n",
      "1/1 [==============================] - 0s 19ms/step - loss: 2.8672 - accuracy: 0.1667\n",
      "Epoch 37/100\n",
      "1/1 [==============================] - 0s 20ms/step - loss: 2.8603 - accuracy: 0.1667\n",
      "Epoch 38/100\n",
      "1/1 [==============================] - 0s 15ms/step - loss: 2.8527 - accuracy: 0.1667\n",
      "Epoch 39/100\n",
      "1/1 [==============================] - 0s 17ms/step - loss: 2.8443 - accuracy: 0.1667\n",
      "Epoch 40/100\n",
      "1/1 [==============================] - 0s 15ms/step - loss: 2.8351 - accuracy: 0.1667\n",
      "Epoch 41/100\n",
      "1/1 [==============================] - 0s 15ms/step - loss: 2.8250 - accuracy: 0.1667\n",
      "Epoch 42/100\n",
      "1/1 [==============================] - 0s 14ms/step - loss: 2.8140 - accuracy: 0.1667\n",
      "Epoch 43/100\n",
      "1/1 [==============================] - 0s 13ms/step - loss: 2.8019 - accuracy: 0.1667\n",
      "Epoch 44/100\n",
      "1/1 [==============================] - 0s 13ms/step - loss: 2.7885 - accuracy: 0.1667\n",
      "Epoch 45/100\n",
      "1/1 [==============================] - 0s 19ms/step - loss: 2.7738 - accuracy: 0.1667\n",
      "Epoch 46/100\n",
      "1/1 [==============================] - 0s 13ms/step - loss: 2.7575 - accuracy: 0.1667\n",
      "Epoch 47/100\n",
      "1/1 [==============================] - 0s 8ms/step - loss: 2.7396 - accuracy: 0.1667\n",
      "Epoch 48/100\n",
      "1/1 [==============================] - 0s 18ms/step - loss: 2.7199 - accuracy: 0.1667\n",
      "Epoch 49/100\n",
      "1/1 [==============================] - 0s 15ms/step - loss: 2.6982 - accuracy: 0.2222\n",
      "Epoch 50/100\n",
      "1/1 [==============================] - 0s 9ms/step - loss: 2.6746 - accuracy: 0.2222\n",
      "Epoch 51/100\n",
      "1/1 [==============================] - 0s 18ms/step - loss: 2.6488 - accuracy: 0.2222\n",
      "Epoch 52/100\n",
      "1/1 [==============================] - 0s 16ms/step - loss: 2.6208 - accuracy: 0.2222\n",
      "Epoch 53/100\n",
      "1/1 [==============================] - 0s 13ms/step - loss: 2.5904 - accuracy: 0.2222\n",
      "Epoch 54/100\n",
      "1/1 [==============================] - 0s 11ms/step - loss: 2.5578 - accuracy: 0.2222\n",
      "Epoch 55/100\n",
      "1/1 [==============================] - 0s 16ms/step - loss: 2.5233 - accuracy: 0.2222\n",
      "Epoch 56/100\n",
      "1/1 [==============================] - 0s 13ms/step - loss: 2.4867 - accuracy: 0.2222\n",
      "Epoch 57/100\n",
      "1/1 [==============================] - 0s 13ms/step - loss: 2.4481 - accuracy: 0.2222\n",
      "Epoch 58/100\n",
      "1/1 [==============================] - 0s 15ms/step - loss: 2.4075 - accuracy: 0.2222\n",
      "Epoch 59/100\n",
      "1/1 [==============================] - 0s 15ms/step - loss: 2.3652 - accuracy: 0.2222\n",
      "Epoch 60/100\n",
      "1/1 [==============================] - 0s 21ms/step - loss: 2.3218 - accuracy: 0.2222\n",
      "Epoch 61/100\n",
      "1/1 [==============================] - 0s 14ms/step - loss: 2.2778 - accuracy: 0.2222\n",
      "Epoch 62/100\n",
      "1/1 [==============================] - 0s 15ms/step - loss: 2.2334 - accuracy: 0.2222\n",
      "Epoch 63/100\n",
      "1/1 [==============================] - 0s 16ms/step - loss: 2.1887 - accuracy: 0.2222\n",
      "Epoch 64/100\n",
      "1/1 [==============================] - 0s 14ms/step - loss: 2.1443 - accuracy: 0.2222\n",
      "Epoch 65/100\n",
      "1/1 [==============================] - 0s 13ms/step - loss: 2.1005 - accuracy: 0.2222\n",
      "Epoch 66/100\n",
      "1/1 [==============================] - 0s 13ms/step - loss: 2.0564 - accuracy: 0.2222\n",
      "Epoch 67/100\n",
      "1/1 [==============================] - 0s 13ms/step - loss: 2.0120 - accuracy: 0.2222\n",
      "Epoch 68/100\n",
      "1/1 [==============================] - 0s 13ms/step - loss: 1.9674 - accuracy: 0.2222\n",
      "Epoch 69/100\n",
      "1/1 [==============================] - 0s 19ms/step - loss: 1.9226 - accuracy: 0.2222\n",
      "Epoch 70/100\n",
      "1/1 [==============================] - 0s 15ms/step - loss: 1.8787 - accuracy: 0.2222\n",
      "Epoch 71/100\n",
      "1/1 [==============================] - 0s 14ms/step - loss: 1.8341 - accuracy: 0.2222\n",
      "Epoch 72/100\n",
      "1/1 [==============================] - 0s 17ms/step - loss: 1.7891 - accuracy: 0.2778\n",
      "Epoch 73/100\n",
      "1/1 [==============================] - 0s 12ms/step - loss: 1.7439 - accuracy: 0.2778\n",
      "Epoch 74/100\n",
      "1/1 [==============================] - 0s 16ms/step - loss: 1.6987 - accuracy: 0.3333\n",
      "Epoch 75/100\n",
      "1/1 [==============================] - 0s 12ms/step - loss: 1.6538 - accuracy: 0.3889\n",
      "Epoch 76/100\n",
      "1/1 [==============================] - 0s 11ms/step - loss: 1.6098 - accuracy: 0.4444\n",
      "Epoch 77/100\n",
      "1/1 [==============================] - 0s 11ms/step - loss: 1.5651 - accuracy: 0.5000\n",
      "Epoch 78/100\n",
      "1/1 [==============================] - 0s 15ms/step - loss: 1.5196 - accuracy: 0.5556\n",
      "Epoch 79/100\n",
      "1/1 [==============================] - 0s 18ms/step - loss: 1.4741 - accuracy: 0.5000\n",
      "Epoch 80/100\n",
      "1/1 [==============================] - 0s 16ms/step - loss: 1.4284 - accuracy: 0.5000\n",
      "Epoch 81/100\n",
      "1/1 [==============================] - 0s 12ms/step - loss: 1.3825 - accuracy: 0.5000\n",
      "Epoch 82/100\n",
      "1/1 [==============================] - 0s 16ms/step - loss: 1.3367 - accuracy: 0.5000\n",
      "Epoch 83/100\n",
      "1/1 [==============================] - 0s 16ms/step - loss: 1.2908 - accuracy: 0.6667\n",
      "Epoch 84/100\n",
      "1/1 [==============================] - 0s 13ms/step - loss: 1.2451 - accuracy: 0.7222\n",
      "Epoch 85/100\n",
      "1/1 [==============================] - 0s 14ms/step - loss: 1.1997 - accuracy: 0.7222\n",
      "Epoch 86/100\n",
      "1/1 [==============================] - 0s 15ms/step - loss: 1.1541 - accuracy: 0.7222\n",
      "Epoch 87/100\n",
      "1/1 [==============================] - 0s 24ms/step - loss: 1.1088 - accuracy: 0.7778\n",
      "Epoch 88/100\n",
      "1/1 [==============================] - 0s 29ms/step - loss: 1.0646 - accuracy: 0.7778\n",
      "Epoch 89/100\n",
      "1/1 [==============================] - 0s 17ms/step - loss: 1.0205 - accuracy: 0.8333\n",
      "Epoch 90/100\n",
      "1/1 [==============================] - 0s 13ms/step - loss: 0.9766 - accuracy: 0.8333\n",
      "Epoch 91/100\n",
      "1/1 [==============================] - 0s 15ms/step - loss: 0.9331 - accuracy: 0.8889\n",
      "Epoch 92/100\n",
      "1/1 [==============================] - 0s 15ms/step - loss: 0.8901 - accuracy: 0.9444\n",
      "Epoch 93/100\n",
      "1/1 [==============================] - 0s 19ms/step - loss: 0.8486 - accuracy: 0.9444\n",
      "Epoch 94/100\n",
      "1/1 [==============================] - 0s 15ms/step - loss: 0.8112 - accuracy: 0.9444\n",
      "Epoch 95/100\n",
      "1/1 [==============================] - 0s 16ms/step - loss: 0.7742 - accuracy: 0.9444\n",
      "Epoch 96/100\n",
      "1/1 [==============================] - 0s 19ms/step - loss: 0.7386 - accuracy: 0.9444\n",
      "Epoch 97/100\n",
      "1/1 [==============================] - 0s 16ms/step - loss: 0.7045 - accuracy: 0.9444\n",
      "Epoch 98/100\n",
      "1/1 [==============================] - 0s 14ms/step - loss: 0.6711 - accuracy: 0.9444\n",
      "Epoch 99/100\n",
      "1/1 [==============================] - 0s 13ms/step - loss: 0.6386 - accuracy: 1.0000\n",
      "Epoch 100/100\n",
      "1/1 [==============================] - 0s 12ms/step - loss: 0.6072 - accuracy: 1.0000\n"
     ]
    }
   ],
   "source": [
    "r = model.fit(X,Y,epochs=100)"
   ]
  },
  {
   "cell_type": "markdown",
   "metadata": {},
   "source": [
    "# Future Word Prediction\n",
    "\n",
    "#### Describe\n",
    "* Model = model we build\n",
    "* tokenizer = Breaking into Word\n",
    "* enter_text = input user give"
   ]
  },
  {
   "cell_type": "code",
   "execution_count": 63,
   "metadata": {
    "collapsed": true
   },
   "outputs": [
    {
     "name": "stdout",
     "output_type": "stream",
     "text": [
      "california 1\n",
      "state 2\n",
      "western 3\n",
      "united 4\n",
      "states 5\n",
      "borders 6\n",
      "oregon 7\n",
      "north 8\n",
      "nevada 9\n",
      "arizona 10\n",
      "east 11\n",
      "mexican 12\n",
      "baja 13\n",
      "south 14\n",
      "coastline 15\n",
      "pacific 16\n",
      "ocean 17\n",
      "west 18\n"
     ]
    }
   ],
   "source": [
    "for word, index in tokenizer.word_index.items():\n",
    "    print(word,index)"
   ]
  },
  {
   "cell_type": "code",
   "execution_count": 72,
   "metadata": {
    "collapsed": true
   },
   "outputs": [
    {
     "name": "stdout",
     "output_type": "stream",
     "text": [
      "1/1 [==============================] - 0s 151ms/step\n"
     ]
    },
    {
     "data": {
      "text/plain": [
       "7"
      ]
     },
     "execution_count": 72,
     "metadata": {},
     "output_type": "execute_result"
    }
   ],
   "source": [
    "enter_text='states california borders'\n",
    "encoded = tokenizer.texts_to_sequences([enter_text]) \n",
    "encoded = np.array(encoded) # [3]\n",
    "predicted= np.argmax(model.predict(encoded))  # input = 3 # prediction = 4  \n",
    "predicted"
   ]
  },
  {
   "cell_type": "code",
   "execution_count": 64,
   "metadata": {},
   "outputs": [],
   "source": [
    "def Predict_Next_Words(model,tokenizer,enter_text):\n",
    "        encoded = tokenizer.texts_to_sequences([enter_text]) # in_text = Western = 3 \n",
    "        encoded = np.array(encoded) # [3]\n",
    "        predicted= np.argmax(model.predict(encoded))  # input = 3 # prediction = 4  \n",
    "        predicted_word=''\n",
    "        for word, index in tokenizer.word_index.items():\n",
    "            if  index==predicted:    # Predicted  7 = Index 7\n",
    "                predicted_word = word      # word = OREGON\n",
    "                break\n",
    "        result=enter_text + ' ' + predicted_word\n",
    "        return result"
   ]
  },
  {
   "cell_type": "code",
   "execution_count": 65,
   "metadata": {},
   "outputs": [
    {
     "data": {
      "text/plain": [
       "'california state western united states california borders oregon north nevada arizona east mexican state baja california south coastline pacific ocean west'"
      ]
     },
     "execution_count": 65,
     "metadata": {},
     "output_type": "execute_result"
    }
   ],
   "source": [
    "data"
   ]
  },
  {
   "cell_type": "code",
   "execution_count": 74,
   "metadata": {
    "scrolled": true
   },
   "outputs": [
    {
     "name": "stdout",
     "output_type": "stream",
     "text": [
      "1/1 [==============================] - 0s 62ms/step\n",
      "states california borders oregon\n"
     ]
    }
   ],
   "source": [
    "print(Predict_Next_Words(model,tokenizer,'states california borders'))"
   ]
  },
  {
   "cell_type": "code",
   "execution_count": 67,
   "metadata": {
    "scrolled": false
   },
   "outputs": [
    {
     "name": "stdout",
     "output_type": "stream",
     "text": [
      "1/1 [==============================] - 0s 302ms/step\n",
      "california borders oregon north\n"
     ]
    }
   ],
   "source": [
    "print(Predict_Next_Words(model,tokenizer,'california borders oregon'))"
   ]
  },
  {
   "cell_type": "code",
   "execution_count": 68,
   "metadata": {
    "scrolled": false
   },
   "outputs": [
    {
     "name": "stdout",
     "output_type": "stream",
     "text": [
      "1/1 [==============================] - 0s 86ms/step\n",
      "borders oregon north nevada\n"
     ]
    }
   ],
   "source": [
    "print(Predict_Next_Words(model,tokenizer,'borders oregon north'))"
   ]
  },
  {
   "cell_type": "code",
   "execution_count": 69,
   "metadata": {
    "scrolled": true
   },
   "outputs": [
    {
     "name": "stdout",
     "output_type": "stream",
     "text": [
      "1/1 [==============================] - 0s 142ms/step\n",
      "oregon north nevada  arizona\n"
     ]
    }
   ],
   "source": [
    "print(Predict_Next_Words(model,tokenizer,'oregon north nevada '))"
   ]
  },
  {
   "cell_type": "markdown",
   "metadata": {},
   "source": [
    "# Finished"
   ]
  }
 ],
 "metadata": {
  "kernelspec": {
   "display_name": "Python 3 (ipykernel)",
   "language": "python",
   "name": "python3"
  },
  "language_info": {
   "codemirror_mode": {
    "name": "ipython",
    "version": 3
   },
   "file_extension": ".py",
   "mimetype": "text/x-python",
   "name": "python",
   "nbconvert_exporter": "python",
   "pygments_lexer": "ipython3",
   "version": "3.9.12"
  }
 },
 "nbformat": 4,
 "nbformat_minor": 4
}
