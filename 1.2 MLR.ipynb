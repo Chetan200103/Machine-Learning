{
 "cells": [
  {
   "cell_type": "code",
   "execution_count": 1,
   "id": "167f6a06",
   "metadata": {},
   "outputs": [],
   "source": [
    "################################## Data Analysis & Calculation ##################################\n",
    "\n",
    "import pandas as pd \n",
    "import numpy as np \n",
    "\n",
    "################# Machine Learning ################\n",
    "import statsmodels\n",
    "from statsmodels.stats.anova import anova_lm\n",
    "from statsmodels.stats.outliers_influence import variance_inflation_factor\n",
    "\n",
    "################# Data Visualization ################\n",
    "import seaborn as sns\n",
    "from matplotlib import pyplot as plt\n",
    "%matplotlib inline\n"
   ]
  },
  {
   "cell_type": "markdown",
   "id": "babc6df8",
   "metadata": {},
   "source": [
    "## Data Import"
   ]
  },
  {
   "cell_type": "code",
   "execution_count": 2,
   "id": "8cf51837",
   "metadata": {},
   "outputs": [
    {
     "data": {
      "text/html": [
       "<div>\n",
       "<style scoped>\n",
       "    .dataframe tbody tr th:only-of-type {\n",
       "        vertical-align: middle;\n",
       "    }\n",
       "\n",
       "    .dataframe tbody tr th {\n",
       "        vertical-align: top;\n",
       "    }\n",
       "\n",
       "    .dataframe thead th {\n",
       "        text-align: right;\n",
       "    }\n",
       "</style>\n",
       "<table border=\"1\" class=\"dataframe\">\n",
       "  <thead>\n",
       "    <tr style=\"text-align: right;\">\n",
       "      <th></th>\n",
       "      <th>PM10</th>\n",
       "      <th>Pb</th>\n",
       "      <th>Cd</th>\n",
       "      <th>Cu</th>\n",
       "      <th>Cr</th>\n",
       "      <th>Zn</th>\n",
       "      <th>NOx</th>\n",
       "      <th>SO2</th>\n",
       "      <th>Site</th>\n",
       "      <th>Date</th>\n",
       "      <th>Season</th>\n",
       "    </tr>\n",
       "  </thead>\n",
       "  <tbody>\n",
       "    <tr>\n",
       "      <th>0</th>\n",
       "      <td>120.71</td>\n",
       "      <td>2.67</td>\n",
       "      <td>0.01</td>\n",
       "      <td>0.53</td>\n",
       "      <td>0.61</td>\n",
       "      <td>0</td>\n",
       "      <td>84.17</td>\n",
       "      <td>40.37</td>\n",
       "      <td>Mandai</td>\n",
       "      <td>2004-02-07</td>\n",
       "      <td>Summer</td>\n",
       "    </tr>\n",
       "    <tr>\n",
       "      <th>1</th>\n",
       "      <td>140.25</td>\n",
       "      <td>3.49</td>\n",
       "      <td>0.02</td>\n",
       "      <td>0.10</td>\n",
       "      <td>0.91</td>\n",
       "      <td>0</td>\n",
       "      <td>88.81</td>\n",
       "      <td>39.48</td>\n",
       "      <td>Mandai</td>\n",
       "      <td>2004-02-14</td>\n",
       "      <td>Summer</td>\n",
       "    </tr>\n",
       "    <tr>\n",
       "      <th>2</th>\n",
       "      <td>107.01</td>\n",
       "      <td>1.31</td>\n",
       "      <td>0.01</td>\n",
       "      <td>0.19</td>\n",
       "      <td>0.48</td>\n",
       "      <td>0</td>\n",
       "      <td>81.49</td>\n",
       "      <td>48.29</td>\n",
       "      <td>Mandai</td>\n",
       "      <td>2004-02-21</td>\n",
       "      <td>Summer</td>\n",
       "    </tr>\n",
       "    <tr>\n",
       "      <th>3</th>\n",
       "      <td>88.81</td>\n",
       "      <td>0.76</td>\n",
       "      <td>0.00</td>\n",
       "      <td>0.33</td>\n",
       "      <td>0.39</td>\n",
       "      <td>0</td>\n",
       "      <td>61.80</td>\n",
       "      <td>27.42</td>\n",
       "      <td>Mandai</td>\n",
       "      <td>2004-02-28</td>\n",
       "      <td>Summer</td>\n",
       "    </tr>\n",
       "    <tr>\n",
       "      <th>4</th>\n",
       "      <td>75.05</td>\n",
       "      <td>0.60</td>\n",
       "      <td>0.00</td>\n",
       "      <td>0.41</td>\n",
       "      <td>1.54</td>\n",
       "      <td>0</td>\n",
       "      <td>48.71</td>\n",
       "      <td>19.23</td>\n",
       "      <td>Mandai</td>\n",
       "      <td>2004-03-06</td>\n",
       "      <td>Summer</td>\n",
       "    </tr>\n",
       "    <tr>\n",
       "      <th>...</th>\n",
       "      <td>...</td>\n",
       "      <td>...</td>\n",
       "      <td>...</td>\n",
       "      <td>...</td>\n",
       "      <td>...</td>\n",
       "      <td>...</td>\n",
       "      <td>...</td>\n",
       "      <td>...</td>\n",
       "      <td>...</td>\n",
       "      <td>...</td>\n",
       "      <td>...</td>\n",
       "    </tr>\n",
       "    <tr>\n",
       "      <th>146</th>\n",
       "      <td>40.13</td>\n",
       "      <td>0.10</td>\n",
       "      <td>0.00</td>\n",
       "      <td>0.04</td>\n",
       "      <td>0.09</td>\n",
       "      <td>0</td>\n",
       "      <td>18.88</td>\n",
       "      <td>10.09</td>\n",
       "      <td>Bhosari</td>\n",
       "      <td>2004-09-01</td>\n",
       "      <td>Monsoon</td>\n",
       "    </tr>\n",
       "    <tr>\n",
       "      <th>147</th>\n",
       "      <td>40.38</td>\n",
       "      <td>0.10</td>\n",
       "      <td>0.00</td>\n",
       "      <td>0.03</td>\n",
       "      <td>0.09</td>\n",
       "      <td>0</td>\n",
       "      <td>47.56</td>\n",
       "      <td>24.14</td>\n",
       "      <td>Bhosari</td>\n",
       "      <td>2004-09-08</td>\n",
       "      <td>Monsoon</td>\n",
       "    </tr>\n",
       "    <tr>\n",
       "      <th>148</th>\n",
       "      <td>31.28</td>\n",
       "      <td>0.11</td>\n",
       "      <td>0.00</td>\n",
       "      <td>0.02</td>\n",
       "      <td>0.05</td>\n",
       "      <td>0</td>\n",
       "      <td>31.53</td>\n",
       "      <td>26.64</td>\n",
       "      <td>Bhosari</td>\n",
       "      <td>2004-09-15</td>\n",
       "      <td>Monsoon</td>\n",
       "    </tr>\n",
       "    <tr>\n",
       "      <th>149</th>\n",
       "      <td>52.10</td>\n",
       "      <td>0.48</td>\n",
       "      <td>0.00</td>\n",
       "      <td>0.04</td>\n",
       "      <td>0.06</td>\n",
       "      <td>0</td>\n",
       "      <td>42.08</td>\n",
       "      <td>22.95</td>\n",
       "      <td>Bhosari</td>\n",
       "      <td>2004-09-22</td>\n",
       "      <td>Monsoon</td>\n",
       "    </tr>\n",
       "    <tr>\n",
       "      <th>150</th>\n",
       "      <td>27.19</td>\n",
       "      <td>0.02</td>\n",
       "      <td>0.00</td>\n",
       "      <td>0.02</td>\n",
       "      <td>0.03</td>\n",
       "      <td>0</td>\n",
       "      <td>53.29</td>\n",
       "      <td>36.24</td>\n",
       "      <td>Bhosari</td>\n",
       "      <td>2004-09-29</td>\n",
       "      <td>Monsoon</td>\n",
       "    </tr>\n",
       "  </tbody>\n",
       "</table>\n",
       "<p>151 rows × 11 columns</p>\n",
       "</div>"
      ],
      "text/plain": [
       "       PM10    Pb    Cd    Cu    Cr  Zn    NOx    SO2     Site       Date  \\\n",
       "0    120.71  2.67  0.01  0.53  0.61   0  84.17  40.37   Mandai 2004-02-07   \n",
       "1    140.25  3.49  0.02  0.10  0.91   0  88.81  39.48   Mandai 2004-02-14   \n",
       "2    107.01  1.31  0.01  0.19  0.48   0  81.49  48.29   Mandai 2004-02-21   \n",
       "3     88.81  0.76  0.00  0.33  0.39   0  61.80  27.42   Mandai 2004-02-28   \n",
       "4     75.05  0.60  0.00  0.41  1.54   0  48.71  19.23   Mandai 2004-03-06   \n",
       "..      ...   ...   ...   ...   ...  ..    ...    ...      ...        ...   \n",
       "146   40.13  0.10  0.00  0.04  0.09   0  18.88  10.09  Bhosari 2004-09-01   \n",
       "147   40.38  0.10  0.00  0.03  0.09   0  47.56  24.14  Bhosari 2004-09-08   \n",
       "148   31.28  0.11  0.00  0.02  0.05   0  31.53  26.64  Bhosari 2004-09-15   \n",
       "149   52.10  0.48  0.00  0.04  0.06   0  42.08  22.95  Bhosari 2004-09-22   \n",
       "150   27.19  0.02  0.00  0.02  0.03   0  53.29  36.24  Bhosari 2004-09-29   \n",
       "\n",
       "      Season  \n",
       "0     Summer  \n",
       "1     Summer  \n",
       "2     Summer  \n",
       "3     Summer  \n",
       "4     Summer  \n",
       "..       ...  \n",
       "146  Monsoon  \n",
       "147  Monsoon  \n",
       "148  Monsoon  \n",
       "149  Monsoon  \n",
       "150  Monsoon  \n",
       "\n",
       "[151 rows x 11 columns]"
      ]
     },
     "execution_count": 2,
     "metadata": {},
     "output_type": "execute_result"
    }
   ],
   "source": [
    "df=pd.read_excel(r\"C:\\Users\\Chetan Habib\\Desktop\\Machine Learning\\Air.xls\")\n",
    "df"
   ]
  },
  {
   "cell_type": "markdown",
   "id": "10e560b5",
   "metadata": {},
   "source": [
    "## Data Type "
   ]
  },
  {
   "cell_type": "code",
   "execution_count": 3,
   "id": "d5564716",
   "metadata": {},
   "outputs": [
    {
     "name": "stdout",
     "output_type": "stream",
     "text": [
      "<class 'pandas.core.frame.DataFrame'>\n",
      "RangeIndex: 151 entries, 0 to 150\n",
      "Data columns (total 11 columns):\n",
      " #   Column  Non-Null Count  Dtype         \n",
      "---  ------  --------------  -----         \n",
      " 0   PM10    151 non-null    float64       \n",
      " 1   Pb      151 non-null    float64       \n",
      " 2   Cd      151 non-null    float64       \n",
      " 3   Cu      151 non-null    float64       \n",
      " 4   Cr      151 non-null    float64       \n",
      " 5   Zn      151 non-null    int64         \n",
      " 6   NOx     151 non-null    float64       \n",
      " 7   SO2     151 non-null    float64       \n",
      " 8   Site    151 non-null    object        \n",
      " 9   Date    151 non-null    datetime64[ns]\n",
      " 10  Season  151 non-null    object        \n",
      "dtypes: datetime64[ns](1), float64(7), int64(1), object(2)\n",
      "memory usage: 13.1+ KB\n"
     ]
    }
   ],
   "source": [
    "df.info()"
   ]
  },
  {
   "cell_type": "code",
   "execution_count": 4,
   "id": "2ff6e210",
   "metadata": {},
   "outputs": [
    {
     "data": {
      "text/html": [
       "<div>\n",
       "<style scoped>\n",
       "    .dataframe tbody tr th:only-of-type {\n",
       "        vertical-align: middle;\n",
       "    }\n",
       "\n",
       "    .dataframe tbody tr th {\n",
       "        vertical-align: top;\n",
       "    }\n",
       "\n",
       "    .dataframe thead th {\n",
       "        text-align: right;\n",
       "    }\n",
       "</style>\n",
       "<table border=\"1\" class=\"dataframe\">\n",
       "  <thead>\n",
       "    <tr style=\"text-align: right;\">\n",
       "      <th></th>\n",
       "      <th>PM10</th>\n",
       "      <th>Pb</th>\n",
       "      <th>Cd</th>\n",
       "      <th>Cu</th>\n",
       "      <th>Cr</th>\n",
       "      <th>Zn</th>\n",
       "      <th>NOx</th>\n",
       "      <th>SO2</th>\n",
       "    </tr>\n",
       "  </thead>\n",
       "  <tbody>\n",
       "    <tr>\n",
       "      <th>0</th>\n",
       "      <td>120.71</td>\n",
       "      <td>2.67</td>\n",
       "      <td>0.01</td>\n",
       "      <td>0.53</td>\n",
       "      <td>0.61</td>\n",
       "      <td>0</td>\n",
       "      <td>84.17</td>\n",
       "      <td>40.37</td>\n",
       "    </tr>\n",
       "    <tr>\n",
       "      <th>1</th>\n",
       "      <td>140.25</td>\n",
       "      <td>3.49</td>\n",
       "      <td>0.02</td>\n",
       "      <td>0.10</td>\n",
       "      <td>0.91</td>\n",
       "      <td>0</td>\n",
       "      <td>88.81</td>\n",
       "      <td>39.48</td>\n",
       "    </tr>\n",
       "    <tr>\n",
       "      <th>2</th>\n",
       "      <td>107.01</td>\n",
       "      <td>1.31</td>\n",
       "      <td>0.01</td>\n",
       "      <td>0.19</td>\n",
       "      <td>0.48</td>\n",
       "      <td>0</td>\n",
       "      <td>81.49</td>\n",
       "      <td>48.29</td>\n",
       "    </tr>\n",
       "    <tr>\n",
       "      <th>3</th>\n",
       "      <td>88.81</td>\n",
       "      <td>0.76</td>\n",
       "      <td>0.00</td>\n",
       "      <td>0.33</td>\n",
       "      <td>0.39</td>\n",
       "      <td>0</td>\n",
       "      <td>61.80</td>\n",
       "      <td>27.42</td>\n",
       "    </tr>\n",
       "    <tr>\n",
       "      <th>4</th>\n",
       "      <td>75.05</td>\n",
       "      <td>0.60</td>\n",
       "      <td>0.00</td>\n",
       "      <td>0.41</td>\n",
       "      <td>1.54</td>\n",
       "      <td>0</td>\n",
       "      <td>48.71</td>\n",
       "      <td>19.23</td>\n",
       "    </tr>\n",
       "    <tr>\n",
       "      <th>...</th>\n",
       "      <td>...</td>\n",
       "      <td>...</td>\n",
       "      <td>...</td>\n",
       "      <td>...</td>\n",
       "      <td>...</td>\n",
       "      <td>...</td>\n",
       "      <td>...</td>\n",
       "      <td>...</td>\n",
       "    </tr>\n",
       "    <tr>\n",
       "      <th>146</th>\n",
       "      <td>40.13</td>\n",
       "      <td>0.10</td>\n",
       "      <td>0.00</td>\n",
       "      <td>0.04</td>\n",
       "      <td>0.09</td>\n",
       "      <td>0</td>\n",
       "      <td>18.88</td>\n",
       "      <td>10.09</td>\n",
       "    </tr>\n",
       "    <tr>\n",
       "      <th>147</th>\n",
       "      <td>40.38</td>\n",
       "      <td>0.10</td>\n",
       "      <td>0.00</td>\n",
       "      <td>0.03</td>\n",
       "      <td>0.09</td>\n",
       "      <td>0</td>\n",
       "      <td>47.56</td>\n",
       "      <td>24.14</td>\n",
       "    </tr>\n",
       "    <tr>\n",
       "      <th>148</th>\n",
       "      <td>31.28</td>\n",
       "      <td>0.11</td>\n",
       "      <td>0.00</td>\n",
       "      <td>0.02</td>\n",
       "      <td>0.05</td>\n",
       "      <td>0</td>\n",
       "      <td>31.53</td>\n",
       "      <td>26.64</td>\n",
       "    </tr>\n",
       "    <tr>\n",
       "      <th>149</th>\n",
       "      <td>52.10</td>\n",
       "      <td>0.48</td>\n",
       "      <td>0.00</td>\n",
       "      <td>0.04</td>\n",
       "      <td>0.06</td>\n",
       "      <td>0</td>\n",
       "      <td>42.08</td>\n",
       "      <td>22.95</td>\n",
       "    </tr>\n",
       "    <tr>\n",
       "      <th>150</th>\n",
       "      <td>27.19</td>\n",
       "      <td>0.02</td>\n",
       "      <td>0.00</td>\n",
       "      <td>0.02</td>\n",
       "      <td>0.03</td>\n",
       "      <td>0</td>\n",
       "      <td>53.29</td>\n",
       "      <td>36.24</td>\n",
       "    </tr>\n",
       "  </tbody>\n",
       "</table>\n",
       "<p>151 rows × 8 columns</p>\n",
       "</div>"
      ],
      "text/plain": [
       "       PM10    Pb    Cd    Cu    Cr  Zn    NOx    SO2\n",
       "0    120.71  2.67  0.01  0.53  0.61   0  84.17  40.37\n",
       "1    140.25  3.49  0.02  0.10  0.91   0  88.81  39.48\n",
       "2    107.01  1.31  0.01  0.19  0.48   0  81.49  48.29\n",
       "3     88.81  0.76  0.00  0.33  0.39   0  61.80  27.42\n",
       "4     75.05  0.60  0.00  0.41  1.54   0  48.71  19.23\n",
       "..      ...   ...   ...   ...   ...  ..    ...    ...\n",
       "146   40.13  0.10  0.00  0.04  0.09   0  18.88  10.09\n",
       "147   40.38  0.10  0.00  0.03  0.09   0  47.56  24.14\n",
       "148   31.28  0.11  0.00  0.02  0.05   0  31.53  26.64\n",
       "149   52.10  0.48  0.00  0.04  0.06   0  42.08  22.95\n",
       "150   27.19  0.02  0.00  0.02  0.03   0  53.29  36.24\n",
       "\n",
       "[151 rows x 8 columns]"
      ]
     },
     "execution_count": 4,
     "metadata": {},
     "output_type": "execute_result"
    }
   ],
   "source": [
    "df = df.drop(['Site','Date','Season'],axis=1)\n",
    "df"
   ]
  },
  {
   "cell_type": "code",
   "execution_count": 5,
   "id": "9736b397",
   "metadata": {},
   "outputs": [
    {
     "data": {
      "text/html": [
       "<div>\n",
       "<style scoped>\n",
       "    .dataframe tbody tr th:only-of-type {\n",
       "        vertical-align: middle;\n",
       "    }\n",
       "\n",
       "    .dataframe tbody tr th {\n",
       "        vertical-align: top;\n",
       "    }\n",
       "\n",
       "    .dataframe thead th {\n",
       "        text-align: right;\n",
       "    }\n",
       "</style>\n",
       "<table border=\"1\" class=\"dataframe\">\n",
       "  <thead>\n",
       "    <tr style=\"text-align: right;\">\n",
       "      <th></th>\n",
       "      <th>PM10</th>\n",
       "      <th>Pb</th>\n",
       "      <th>Cd</th>\n",
       "      <th>Cu</th>\n",
       "      <th>Cr</th>\n",
       "      <th>Zn</th>\n",
       "      <th>NOx</th>\n",
       "      <th>SO2</th>\n",
       "    </tr>\n",
       "  </thead>\n",
       "  <tbody>\n",
       "    <tr>\n",
       "      <th>0</th>\n",
       "      <td>120.71</td>\n",
       "      <td>2.67</td>\n",
       "      <td>0.01</td>\n",
       "      <td>0.53</td>\n",
       "      <td>0.61</td>\n",
       "      <td>0</td>\n",
       "      <td>84.17</td>\n",
       "      <td>40.37</td>\n",
       "    </tr>\n",
       "    <tr>\n",
       "      <th>1</th>\n",
       "      <td>140.25</td>\n",
       "      <td>3.49</td>\n",
       "      <td>0.02</td>\n",
       "      <td>0.10</td>\n",
       "      <td>0.91</td>\n",
       "      <td>0</td>\n",
       "      <td>88.81</td>\n",
       "      <td>39.48</td>\n",
       "    </tr>\n",
       "    <tr>\n",
       "      <th>2</th>\n",
       "      <td>107.01</td>\n",
       "      <td>1.31</td>\n",
       "      <td>0.01</td>\n",
       "      <td>0.19</td>\n",
       "      <td>0.48</td>\n",
       "      <td>0</td>\n",
       "      <td>81.49</td>\n",
       "      <td>48.29</td>\n",
       "    </tr>\n",
       "    <tr>\n",
       "      <th>3</th>\n",
       "      <td>88.81</td>\n",
       "      <td>0.76</td>\n",
       "      <td>0.00</td>\n",
       "      <td>0.33</td>\n",
       "      <td>0.39</td>\n",
       "      <td>0</td>\n",
       "      <td>61.80</td>\n",
       "      <td>27.42</td>\n",
       "    </tr>\n",
       "    <tr>\n",
       "      <th>4</th>\n",
       "      <td>75.05</td>\n",
       "      <td>0.60</td>\n",
       "      <td>0.00</td>\n",
       "      <td>0.41</td>\n",
       "      <td>1.54</td>\n",
       "      <td>0</td>\n",
       "      <td>48.71</td>\n",
       "      <td>19.23</td>\n",
       "    </tr>\n",
       "  </tbody>\n",
       "</table>\n",
       "</div>"
      ],
      "text/plain": [
       "     PM10    Pb    Cd    Cu    Cr  Zn    NOx    SO2\n",
       "0  120.71  2.67  0.01  0.53  0.61   0  84.17  40.37\n",
       "1  140.25  3.49  0.02  0.10  0.91   0  88.81  39.48\n",
       "2  107.01  1.31  0.01  0.19  0.48   0  81.49  48.29\n",
       "3   88.81  0.76  0.00  0.33  0.39   0  61.80  27.42\n",
       "4   75.05  0.60  0.00  0.41  1.54   0  48.71  19.23"
      ]
     },
     "execution_count": 5,
     "metadata": {},
     "output_type": "execute_result"
    }
   ],
   "source": [
    "df.head()"
   ]
  },
  {
   "cell_type": "markdown",
   "id": "c049148d",
   "metadata": {},
   "source": [
    "## Univariate Analysis"
   ]
  },
  {
   "cell_type": "code",
   "execution_count": 6,
   "id": "5e5bcdf0",
   "metadata": {},
   "outputs": [
    {
     "data": {
      "text/html": [
       "<div>\n",
       "<style scoped>\n",
       "    .dataframe tbody tr th:only-of-type {\n",
       "        vertical-align: middle;\n",
       "    }\n",
       "\n",
       "    .dataframe tbody tr th {\n",
       "        vertical-align: top;\n",
       "    }\n",
       "\n",
       "    .dataframe thead th {\n",
       "        text-align: right;\n",
       "    }\n",
       "</style>\n",
       "<table border=\"1\" class=\"dataframe\">\n",
       "  <thead>\n",
       "    <tr style=\"text-align: right;\">\n",
       "      <th></th>\n",
       "      <th>PM10</th>\n",
       "      <th>Pb</th>\n",
       "      <th>Cd</th>\n",
       "      <th>Cu</th>\n",
       "      <th>Cr</th>\n",
       "      <th>Zn</th>\n",
       "      <th>NOx</th>\n",
       "      <th>SO2</th>\n",
       "    </tr>\n",
       "  </thead>\n",
       "  <tbody>\n",
       "    <tr>\n",
       "      <th>count</th>\n",
       "      <td>151.000000</td>\n",
       "      <td>151.000000</td>\n",
       "      <td>151.000000</td>\n",
       "      <td>151.000000</td>\n",
       "      <td>151.000000</td>\n",
       "      <td>151.0</td>\n",
       "      <td>151.000000</td>\n",
       "      <td>151.000000</td>\n",
       "    </tr>\n",
       "    <tr>\n",
       "      <th>mean</th>\n",
       "      <td>68.536026</td>\n",
       "      <td>0.716358</td>\n",
       "      <td>0.000265</td>\n",
       "      <td>0.331854</td>\n",
       "      <td>0.390066</td>\n",
       "      <td>0.0</td>\n",
       "      <td>42.692914</td>\n",
       "      <td>22.359868</td>\n",
       "    </tr>\n",
       "    <tr>\n",
       "      <th>std</th>\n",
       "      <td>40.908548</td>\n",
       "      <td>0.673069</td>\n",
       "      <td>0.001982</td>\n",
       "      <td>0.408259</td>\n",
       "      <td>0.434575</td>\n",
       "      <td>0.0</td>\n",
       "      <td>23.101723</td>\n",
       "      <td>10.393498</td>\n",
       "    </tr>\n",
       "    <tr>\n",
       "      <th>min</th>\n",
       "      <td>16.240000</td>\n",
       "      <td>0.000000</td>\n",
       "      <td>0.000000</td>\n",
       "      <td>0.000000</td>\n",
       "      <td>0.000000</td>\n",
       "      <td>0.0</td>\n",
       "      <td>8.260000</td>\n",
       "      <td>0.000000</td>\n",
       "    </tr>\n",
       "    <tr>\n",
       "      <th>25%</th>\n",
       "      <td>37.005000</td>\n",
       "      <td>0.220000</td>\n",
       "      <td>0.000000</td>\n",
       "      <td>0.040000</td>\n",
       "      <td>0.085000</td>\n",
       "      <td>0.0</td>\n",
       "      <td>25.735000</td>\n",
       "      <td>15.165000</td>\n",
       "    </tr>\n",
       "    <tr>\n",
       "      <th>50%</th>\n",
       "      <td>59.610000</td>\n",
       "      <td>0.570000</td>\n",
       "      <td>0.000000</td>\n",
       "      <td>0.130000</td>\n",
       "      <td>0.230000</td>\n",
       "      <td>0.0</td>\n",
       "      <td>37.000000</td>\n",
       "      <td>20.930000</td>\n",
       "    </tr>\n",
       "    <tr>\n",
       "      <th>75%</th>\n",
       "      <td>89.820000</td>\n",
       "      <td>0.965000</td>\n",
       "      <td>0.000000</td>\n",
       "      <td>0.535000</td>\n",
       "      <td>0.580000</td>\n",
       "      <td>0.0</td>\n",
       "      <td>54.695000</td>\n",
       "      <td>27.420000</td>\n",
       "    </tr>\n",
       "    <tr>\n",
       "      <th>max</th>\n",
       "      <td>194.740000</td>\n",
       "      <td>3.490000</td>\n",
       "      <td>0.020000</td>\n",
       "      <td>1.650000</td>\n",
       "      <td>3.220000</td>\n",
       "      <td>0.0</td>\n",
       "      <td>121.460000</td>\n",
       "      <td>53.270000</td>\n",
       "    </tr>\n",
       "  </tbody>\n",
       "</table>\n",
       "</div>"
      ],
      "text/plain": [
       "             PM10          Pb          Cd          Cu          Cr     Zn  \\\n",
       "count  151.000000  151.000000  151.000000  151.000000  151.000000  151.0   \n",
       "mean    68.536026    0.716358    0.000265    0.331854    0.390066    0.0   \n",
       "std     40.908548    0.673069    0.001982    0.408259    0.434575    0.0   \n",
       "min     16.240000    0.000000    0.000000    0.000000    0.000000    0.0   \n",
       "25%     37.005000    0.220000    0.000000    0.040000    0.085000    0.0   \n",
       "50%     59.610000    0.570000    0.000000    0.130000    0.230000    0.0   \n",
       "75%     89.820000    0.965000    0.000000    0.535000    0.580000    0.0   \n",
       "max    194.740000    3.490000    0.020000    1.650000    3.220000    0.0   \n",
       "\n",
       "              NOx         SO2  \n",
       "count  151.000000  151.000000  \n",
       "mean    42.692914   22.359868  \n",
       "std     23.101723   10.393498  \n",
       "min      8.260000    0.000000  \n",
       "25%     25.735000   15.165000  \n",
       "50%     37.000000   20.930000  \n",
       "75%     54.695000   27.420000  \n",
       "max    121.460000   53.270000  "
      ]
     },
     "execution_count": 6,
     "metadata": {},
     "output_type": "execute_result"
    }
   ],
   "source": [
    "df.describe()"
   ]
  },
  {
   "cell_type": "code",
   "execution_count": 7,
   "id": "3a85a04c",
   "metadata": {},
   "outputs": [
    {
     "data": {
      "text/html": [
       "<div>\n",
       "<style scoped>\n",
       "    .dataframe tbody tr th:only-of-type {\n",
       "        vertical-align: middle;\n",
       "    }\n",
       "\n",
       "    .dataframe tbody tr th {\n",
       "        vertical-align: top;\n",
       "    }\n",
       "\n",
       "    .dataframe thead th {\n",
       "        text-align: right;\n",
       "    }\n",
       "</style>\n",
       "<table border=\"1\" class=\"dataframe\">\n",
       "  <thead>\n",
       "    <tr style=\"text-align: right;\">\n",
       "      <th></th>\n",
       "      <th>PM10</th>\n",
       "      <th>Pb</th>\n",
       "      <th>Cu</th>\n",
       "      <th>Cr</th>\n",
       "      <th>NOx</th>\n",
       "      <th>SO2</th>\n",
       "    </tr>\n",
       "  </thead>\n",
       "  <tbody>\n",
       "    <tr>\n",
       "      <th>0</th>\n",
       "      <td>120.71</td>\n",
       "      <td>2.67</td>\n",
       "      <td>0.53</td>\n",
       "      <td>0.61</td>\n",
       "      <td>84.17</td>\n",
       "      <td>40.37</td>\n",
       "    </tr>\n",
       "    <tr>\n",
       "      <th>1</th>\n",
       "      <td>140.25</td>\n",
       "      <td>3.49</td>\n",
       "      <td>0.10</td>\n",
       "      <td>0.91</td>\n",
       "      <td>88.81</td>\n",
       "      <td>39.48</td>\n",
       "    </tr>\n",
       "    <tr>\n",
       "      <th>2</th>\n",
       "      <td>107.01</td>\n",
       "      <td>1.31</td>\n",
       "      <td>0.19</td>\n",
       "      <td>0.48</td>\n",
       "      <td>81.49</td>\n",
       "      <td>48.29</td>\n",
       "    </tr>\n",
       "    <tr>\n",
       "      <th>3</th>\n",
       "      <td>88.81</td>\n",
       "      <td>0.76</td>\n",
       "      <td>0.33</td>\n",
       "      <td>0.39</td>\n",
       "      <td>61.80</td>\n",
       "      <td>27.42</td>\n",
       "    </tr>\n",
       "    <tr>\n",
       "      <th>4</th>\n",
       "      <td>75.05</td>\n",
       "      <td>0.60</td>\n",
       "      <td>0.41</td>\n",
       "      <td>1.54</td>\n",
       "      <td>48.71</td>\n",
       "      <td>19.23</td>\n",
       "    </tr>\n",
       "    <tr>\n",
       "      <th>...</th>\n",
       "      <td>...</td>\n",
       "      <td>...</td>\n",
       "      <td>...</td>\n",
       "      <td>...</td>\n",
       "      <td>...</td>\n",
       "      <td>...</td>\n",
       "    </tr>\n",
       "    <tr>\n",
       "      <th>146</th>\n",
       "      <td>40.13</td>\n",
       "      <td>0.10</td>\n",
       "      <td>0.04</td>\n",
       "      <td>0.09</td>\n",
       "      <td>18.88</td>\n",
       "      <td>10.09</td>\n",
       "    </tr>\n",
       "    <tr>\n",
       "      <th>147</th>\n",
       "      <td>40.38</td>\n",
       "      <td>0.10</td>\n",
       "      <td>0.03</td>\n",
       "      <td>0.09</td>\n",
       "      <td>47.56</td>\n",
       "      <td>24.14</td>\n",
       "    </tr>\n",
       "    <tr>\n",
       "      <th>148</th>\n",
       "      <td>31.28</td>\n",
       "      <td>0.11</td>\n",
       "      <td>0.02</td>\n",
       "      <td>0.05</td>\n",
       "      <td>31.53</td>\n",
       "      <td>26.64</td>\n",
       "    </tr>\n",
       "    <tr>\n",
       "      <th>149</th>\n",
       "      <td>52.10</td>\n",
       "      <td>0.48</td>\n",
       "      <td>0.04</td>\n",
       "      <td>0.06</td>\n",
       "      <td>42.08</td>\n",
       "      <td>22.95</td>\n",
       "    </tr>\n",
       "    <tr>\n",
       "      <th>150</th>\n",
       "      <td>27.19</td>\n",
       "      <td>0.02</td>\n",
       "      <td>0.02</td>\n",
       "      <td>0.03</td>\n",
       "      <td>53.29</td>\n",
       "      <td>36.24</td>\n",
       "    </tr>\n",
       "  </tbody>\n",
       "</table>\n",
       "<p>151 rows × 6 columns</p>\n",
       "</div>"
      ],
      "text/plain": [
       "       PM10    Pb    Cu    Cr    NOx    SO2\n",
       "0    120.71  2.67  0.53  0.61  84.17  40.37\n",
       "1    140.25  3.49  0.10  0.91  88.81  39.48\n",
       "2    107.01  1.31  0.19  0.48  81.49  48.29\n",
       "3     88.81  0.76  0.33  0.39  61.80  27.42\n",
       "4     75.05  0.60  0.41  1.54  48.71  19.23\n",
       "..      ...   ...   ...   ...    ...    ...\n",
       "146   40.13  0.10  0.04  0.09  18.88  10.09\n",
       "147   40.38  0.10  0.03  0.09  47.56  24.14\n",
       "148   31.28  0.11  0.02  0.05  31.53  26.64\n",
       "149   52.10  0.48  0.04  0.06  42.08  22.95\n",
       "150   27.19  0.02  0.02  0.03  53.29  36.24\n",
       "\n",
       "[151 rows x 6 columns]"
      ]
     },
     "execution_count": 7,
     "metadata": {},
     "output_type": "execute_result"
    }
   ],
   "source": [
    "df = df.drop(['Zn','Cd'],axis=1)\n",
    "df"
   ]
  },
  {
   "cell_type": "markdown",
   "id": "3b7f640f",
   "metadata": {},
   "source": [
    "## Step 3 =  EDA"
   ]
  },
  {
   "cell_type": "markdown",
   "id": "87c89cd0",
   "metadata": {},
   "source": [
    "# used for both"
   ]
  },
  {
   "cell_type": "markdown",
   "id": "7077e6ea",
   "metadata": {},
   "source": [
    "for i in df:\n",
    "    \n",
    "    if df[i].dtypes in (\"float64\",\"int64\"):\n",
    "        \n",
    "        q1 = df[i].quantile(0.25)\n",
    "        \n",
    "        q3 = df[i].quantile(0.75)\n",
    "        \n",
    "        iqr = q3-q1\n",
    "        \n",
    "        ul = q3 + 1.5*iqr\n",
    "        \n",
    "        ll = q1 - 1.5*iqr\n",
    "        \n",
    "        df[i].clip(upper=ul,lower=ll,inplace=True)"
   ]
  },
  {
   "cell_type": "markdown",
   "id": "74d53686",
   "metadata": {},
   "source": [
    "for i in new:\n",
    "\n",
    "if new[i].dtypes in (\"float64\",\"int64\"):\n",
    "\n",
    "\n",
    "    q1 = new[i].quantile(0.25)\n",
    "\n",
    "\n",
    "    q3 = new[i].quantile(0.75)\n",
    "\n",
    "    iqr = q3-q1\n",
    "\n",
    "    ul = q3 + 1.5*iqr\n",
    "\n",
    "    ll = q1 - 1.5*iqr\n",
    "\n",
    "    new[i].clip(upper=ul,lower=ll,inplace=True)"
   ]
  },
  {
   "cell_type": "code",
   "execution_count": 8,
   "id": "aae5e5e6",
   "metadata": {},
   "outputs": [
    {
     "data": {
      "text/plain": [
       "<AxesSubplot:>"
      ]
     },
     "execution_count": 8,
     "metadata": {},
     "output_type": "execute_result"
    },
    {
     "data": {
      "image/png": "[encoded data removed]",
      "text/plain": [
       "<Figure size 432x288 with 1 Axes>"
      ]
     },
     "metadata": {
      "needs_background": "light"
     },
     "output_type": "display_data"
    }
   ],
   "source": [
    "sns.boxplot(data=df)"
   ]
  },
  {
   "cell_type": "code",
   "execution_count": 9,
   "id": "7baf12eb",
   "metadata": {},
   "outputs": [
    {
     "data": {
      "text/plain": [
       "169.0425"
      ]
     },
     "execution_count": 9,
     "metadata": {},
     "output_type": "execute_result"
    }
   ],
   "source": [
    "q1 = df['PM10'].quantile(0.25)\n",
    "q3 = df['PM10'].quantile(0.75)\n",
    "iqr = q3-q1 #Interquartile range\n",
    "\n",
    "upper_limit = q3+1.5*iqr \n",
    "upper_limit"
   ]
  },
  {
   "cell_type": "code",
   "execution_count": 10,
   "id": "f7d93e77",
   "metadata": {},
   "outputs": [],
   "source": [
    "df['PM10']=np.where(df['PM10'] > upper_limit,upper_limit,df['PM10']) # upper limit"
   ]
  },
  {
   "cell_type": "code",
   "execution_count": 11,
   "id": "5ab23ddc",
   "metadata": {},
   "outputs": [
    {
     "data": {
      "text/plain": [
       "<AxesSubplot:>"
      ]
     },
     "execution_count": 11,
     "metadata": {},
     "output_type": "execute_result"
    },
    {
     "data": {
      "image/png": "[encoded data removed]",
      "text/plain": [
       "<Figure size 432x288 with 1 Axes>"
      ]
     },
     "metadata": {
      "needs_background": "light"
     },
     "output_type": "display_data"
    }
   ],
   "source": [
    "sns.boxplot(data=df)"
   ]
  },
  {
   "cell_type": "code",
   "execution_count": 12,
   "id": "e50d147a",
   "metadata": {},
   "outputs": [
    {
     "data": {
      "text/plain": [
       "98.13499999999999"
      ]
     },
     "execution_count": 12,
     "metadata": {},
     "output_type": "execute_result"
    }
   ],
   "source": [
    "q1 = df['NOx'].quantile(0.25)\n",
    "q3 = df['NOx'].quantile(0.75)\n",
    "iqr = q3-q1 #Interquartile range\n",
    "\n",
    "upper_limit = q3+1.5*iqr #acceptable range\n",
    "upper_limit"
   ]
  },
  {
   "cell_type": "code",
   "execution_count": 13,
   "id": "69ddfe25",
   "metadata": {},
   "outputs": [],
   "source": [
    "df['NOx']=np.where(df['NOx'] > upper_limit,upper_limit,df['NOx'])"
   ]
  },
  {
   "cell_type": "code",
   "execution_count": 14,
   "id": "11825b21",
   "metadata": {},
   "outputs": [
    {
     "data": {
      "text/plain": [
       "<AxesSubplot:>"
      ]
     },
     "execution_count": 14,
     "metadata": {},
     "output_type": "execute_result"
    },
    {
     "data": {
      "image/png": "[encoded data removed]",
      "text/plain": [
       "<Figure size 432x288 with 1 Axes>"
      ]
     },
     "metadata": {
      "needs_background": "light"
     },
     "output_type": "display_data"
    }
   ],
   "source": [
    "sns.boxplot(data=df)"
   ]
  },
  {
   "cell_type": "code",
   "execution_count": 15,
   "id": "406a91ec",
   "metadata": {},
   "outputs": [
    {
     "data": {
      "text/plain": [
       "45.80250000000001"
      ]
     },
     "execution_count": 15,
     "metadata": {},
     "output_type": "execute_result"
    }
   ],
   "source": [
    "q1 = df['SO2'].quantile(0.25)\n",
    "q3 = df['SO2'].quantile(0.75)\n",
    "iqr = q3-q1 #Interquartile range\n",
    "\n",
    "upper_limit = q3+1.5*iqr #acceptable range\n",
    "upper_limit"
   ]
  },
  {
   "cell_type": "code",
   "execution_count": 16,
   "id": "091f758c",
   "metadata": {},
   "outputs": [],
   "source": [
    "df['SO2']=np.where(df['SO2'] > upper_limit,upper_limit,df['SO2'])"
   ]
  },
  {
   "cell_type": "code",
   "execution_count": 17,
   "id": "61c5b889",
   "metadata": {},
   "outputs": [
    {
     "data": {
      "text/plain": [
       "<AxesSubplot:>"
      ]
     },
     "execution_count": 17,
     "metadata": {},
     "output_type": "execute_result"
    },
    {
     "data": {
      "image/png": "[encoded data removed]",
      "text/plain": [
       "<Figure size 432x288 with 1 Axes>"
      ]
     },
     "metadata": {
      "needs_background": "light"
     },
     "output_type": "display_data"
    }
   ],
   "source": [
    "sns.boxplot(data=df)"
   ]
  },
  {
   "cell_type": "code",
   "execution_count": 18,
   "id": "1efa38c1",
   "metadata": {},
   "outputs": [
    {
     "data": {
      "text/plain": [
       "2.0825"
      ]
     },
     "execution_count": 18,
     "metadata": {},
     "output_type": "execute_result"
    }
   ],
   "source": [
    "q1 = df['Pb'].quantile(0.25)\n",
    "q3 = df['Pb'].quantile(0.75)\n",
    "iqr = q3-q1 #Interquartile range\n",
    "\n",
    "upper_limit = q3+1.5*iqr #acceptable range\n",
    "upper_limit"
   ]
  },
  {
   "cell_type": "code",
   "execution_count": 19,
   "id": "bfc0bc32",
   "metadata": {},
   "outputs": [],
   "source": [
    "df['Pb']=np.where(df['Pb'] > upper_limit,upper_limit,df['Pb'])"
   ]
  },
  {
   "cell_type": "code",
   "execution_count": 20,
   "id": "71f123ef",
   "metadata": {},
   "outputs": [
    {
     "data": {
      "text/plain": [
       "<AxesSubplot:>"
      ]
     },
     "execution_count": 20,
     "metadata": {},
     "output_type": "execute_result"
    },
    {
     "data": {
      "image/png": "[encoded data removed]",
      "text/plain": [
       "<Figure size 432x288 with 1 Axes>"
      ]
     },
     "metadata": {
      "needs_background": "light"
     },
     "output_type": "display_data"
    }
   ],
   "source": [
    "sns.boxplot(data=df)"
   ]
  },
  {
   "cell_type": "code",
   "execution_count": 21,
   "id": "08ce3cba",
   "metadata": {},
   "outputs": [
    {
     "data": {
      "text/plain": [
       "<AxesSubplot:>"
      ]
     },
     "execution_count": 21,
     "metadata": {},
     "output_type": "execute_result"
    },
    {
     "data": {
      "image/png": "[encoded data removed]",
      "text/plain": [
       "<Figure size 432x288 with 1 Axes>"
      ]
     },
     "metadata": {
      "needs_background": "light"
     },
     "output_type": "display_data"
    }
   ],
   "source": [
    "sns.boxplot(data=df)"
   ]
  },
  {
   "cell_type": "code",
   "execution_count": 22,
   "id": "c1fb0310",
   "metadata": {},
   "outputs": [
    {
     "data": {
      "text/plain": [
       "1.2775"
      ]
     },
     "execution_count": 22,
     "metadata": {},
     "output_type": "execute_result"
    }
   ],
   "source": [
    "q1 = df['Cu'].quantile(0.25)\n",
    "q3 = df['Cu'].quantile(0.75)\n",
    "iqr = q3-q1 #Interquartile range\n",
    "#low_limit = q1-1.5*iqr #acceptable range\n",
    "upper_limit = q3+1.5*iqr #acceptable range\n",
    "upper_limit"
   ]
  },
  {
   "cell_type": "code",
   "execution_count": 23,
   "id": "d00397ae",
   "metadata": {},
   "outputs": [],
   "source": [
    "df['Cu']=np.where(df['Cu'] > upper_limit,upper_limit,df['Cu'])"
   ]
  },
  {
   "cell_type": "code",
   "execution_count": 24,
   "id": "79995824",
   "metadata": {},
   "outputs": [
    {
     "data": {
      "text/plain": [
       "<AxesSubplot:>"
      ]
     },
     "execution_count": 24,
     "metadata": {},
     "output_type": "execute_result"
    },
    {
     "data": {
      "image/png": "[encoded data removed]",
      "text/plain": [
       "<Figure size 432x288 with 1 Axes>"
      ]
     },
     "metadata": {
      "needs_background": "light"
     },
     "output_type": "display_data"
    }
   ],
   "source": [
    "sns.boxplot(data=df)"
   ]
  },
  {
   "cell_type": "code",
   "execution_count": 25,
   "id": "1c9725fc",
   "metadata": {},
   "outputs": [
    {
     "data": {
      "text/plain": [
       "1.3224999999999998"
      ]
     },
     "execution_count": 25,
     "metadata": {},
     "output_type": "execute_result"
    }
   ],
   "source": [
    "q1 = df['Cr'].quantile(0.25)\n",
    "q3 = df['Cr'].quantile(0.75)\n",
    "iqr = q3-q1 #Interquartile range\n",
    "#low_limit = q1-1.5*iqr #acceptable range\n",
    "upper_limit = q3+1.5*iqr #acceptable range\n",
    "upper_limit"
   ]
  },
  {
   "cell_type": "code",
   "execution_count": 26,
   "id": "dbe610c2",
   "metadata": {},
   "outputs": [],
   "source": [
    "df['Cr']=np.where(df['Cr'] > upper_limit,upper_limit,df['Cr'])"
   ]
  },
  {
   "cell_type": "code",
   "execution_count": 27,
   "id": "ec4a9409",
   "metadata": {},
   "outputs": [
    {
     "data": {
      "text/plain": [
       "<AxesSubplot:>"
      ]
     },
     "execution_count": 27,
     "metadata": {},
     "output_type": "execute_result"
    },
    {
     "data": {
      "image/png": "[encoded data removed]",
      "text/plain": [
       "<Figure size 432x288 with 1 Axes>"
      ]
     },
     "metadata": {
      "needs_background": "light"
     },
     "output_type": "display_data"
    }
   ],
   "source": [
    "sns.boxplot(data=df)"
   ]
  },
  {
   "cell_type": "code",
   "execution_count": 28,
   "id": "8440c11f",
   "metadata": {},
   "outputs": [
    {
     "data": {
      "text/html": [
       "<div>\n",
       "<style scoped>\n",
       "    .dataframe tbody tr th:only-of-type {\n",
       "        vertical-align: middle;\n",
       "    }\n",
       "\n",
       "    .dataframe tbody tr th {\n",
       "        vertical-align: top;\n",
       "    }\n",
       "\n",
       "    .dataframe thead th {\n",
       "        text-align: right;\n",
       "    }\n",
       "</style>\n",
       "<table border=\"1\" class=\"dataframe\">\n",
       "  <thead>\n",
       "    <tr style=\"text-align: right;\">\n",
       "      <th></th>\n",
       "      <th>PM10</th>\n",
       "      <th>Pb</th>\n",
       "      <th>Cu</th>\n",
       "      <th>Cr</th>\n",
       "      <th>NOx</th>\n",
       "      <th>SO2</th>\n",
       "    </tr>\n",
       "  </thead>\n",
       "  <tbody>\n",
       "    <tr>\n",
       "      <th>count</th>\n",
       "      <td>151.00000</td>\n",
       "      <td>151.000000</td>\n",
       "      <td>151.000000</td>\n",
       "      <td>151.000000</td>\n",
       "      <td>151.000000</td>\n",
       "      <td>151.000000</td>\n",
       "    </tr>\n",
       "    <tr>\n",
       "      <th>mean</th>\n",
       "      <td>68.06856</td>\n",
       "      <td>0.679983</td>\n",
       "      <td>0.327053</td>\n",
       "      <td>0.372848</td>\n",
       "      <td>42.501755</td>\n",
       "      <td>22.226656</td>\n",
       "    </tr>\n",
       "    <tr>\n",
       "      <th>std</th>\n",
       "      <td>39.61346</td>\n",
       "      <td>0.560941</td>\n",
       "      <td>0.395327</td>\n",
       "      <td>0.361985</td>\n",
       "      <td>22.551657</td>\n",
       "      <td>10.049931</td>\n",
       "    </tr>\n",
       "    <tr>\n",
       "      <th>min</th>\n",
       "      <td>16.24000</td>\n",
       "      <td>0.000000</td>\n",
       "      <td>0.000000</td>\n",
       "      <td>0.000000</td>\n",
       "      <td>8.260000</td>\n",
       "      <td>0.000000</td>\n",
       "    </tr>\n",
       "    <tr>\n",
       "      <th>25%</th>\n",
       "      <td>37.00500</td>\n",
       "      <td>0.220000</td>\n",
       "      <td>0.040000</td>\n",
       "      <td>0.085000</td>\n",
       "      <td>25.735000</td>\n",
       "      <td>15.165000</td>\n",
       "    </tr>\n",
       "    <tr>\n",
       "      <th>50%</th>\n",
       "      <td>59.61000</td>\n",
       "      <td>0.570000</td>\n",
       "      <td>0.130000</td>\n",
       "      <td>0.230000</td>\n",
       "      <td>37.000000</td>\n",
       "      <td>20.930000</td>\n",
       "    </tr>\n",
       "    <tr>\n",
       "      <th>75%</th>\n",
       "      <td>89.82000</td>\n",
       "      <td>0.965000</td>\n",
       "      <td>0.535000</td>\n",
       "      <td>0.580000</td>\n",
       "      <td>54.695000</td>\n",
       "      <td>27.420000</td>\n",
       "    </tr>\n",
       "    <tr>\n",
       "      <th>max</th>\n",
       "      <td>169.04250</td>\n",
       "      <td>2.082500</td>\n",
       "      <td>1.277500</td>\n",
       "      <td>1.322500</td>\n",
       "      <td>98.135000</td>\n",
       "      <td>45.802500</td>\n",
       "    </tr>\n",
       "  </tbody>\n",
       "</table>\n",
       "</div>"
      ],
      "text/plain": [
       "            PM10          Pb          Cu          Cr         NOx         SO2\n",
       "count  151.00000  151.000000  151.000000  151.000000  151.000000  151.000000\n",
       "mean    68.06856    0.679983    0.327053    0.372848   42.501755   22.226656\n",
       "std     39.61346    0.560941    0.395327    0.361985   22.551657   10.049931\n",
       "min     16.24000    0.000000    0.000000    0.000000    8.260000    0.000000\n",
       "25%     37.00500    0.220000    0.040000    0.085000   25.735000   15.165000\n",
       "50%     59.61000    0.570000    0.130000    0.230000   37.000000   20.930000\n",
       "75%     89.82000    0.965000    0.535000    0.580000   54.695000   27.420000\n",
       "max    169.04250    2.082500    1.277500    1.322500   98.135000   45.802500"
      ]
     },
     "execution_count": 28,
     "metadata": {},
     "output_type": "execute_result"
    }
   ],
   "source": [
    "df.describe()"
   ]
  },
  {
   "cell_type": "markdown",
   "id": "7b01c20b",
   "metadata": {},
   "source": [
    "# Missing Value"
   ]
  },
  {
   "cell_type": "code",
   "execution_count": 29,
   "id": "79c0c02d",
   "metadata": {},
   "outputs": [
    {
     "data": {
      "text/plain": [
       "PM10    0\n",
       "Pb      0\n",
       "Cu      0\n",
       "Cr      0\n",
       "NOx     0\n",
       "SO2     0\n",
       "dtype: int64"
      ]
     },
     "execution_count": 29,
     "metadata": {},
     "output_type": "execute_result"
    }
   ],
   "source": [
    "df.isna().sum()"
   ]
  },
  {
   "cell_type": "markdown",
   "id": "80386954",
   "metadata": {},
   "source": [
    "## Step 4 = Splitting the data into train and test set"
   ]
  },
  {
   "cell_type": "code",
   "execution_count": 30,
   "id": "91f42d9a",
   "metadata": {},
   "outputs": [
    {
     "data": {
      "text/html": [
       "<div>\n",
       "<style scoped>\n",
       "    .dataframe tbody tr th:only-of-type {\n",
       "        vertical-align: middle;\n",
       "    }\n",
       "\n",
       "    .dataframe tbody tr th {\n",
       "        vertical-align: top;\n",
       "    }\n",
       "\n",
       "    .dataframe thead th {\n",
       "        text-align: right;\n",
       "    }\n",
       "</style>\n",
       "<table border=\"1\" class=\"dataframe\">\n",
       "  <thead>\n",
       "    <tr style=\"text-align: right;\">\n",
       "      <th></th>\n",
       "      <th>PM10</th>\n",
       "      <th>Pb</th>\n",
       "      <th>Cu</th>\n",
       "      <th>Cr</th>\n",
       "      <th>NOx</th>\n",
       "      <th>SO2</th>\n",
       "    </tr>\n",
       "  </thead>\n",
       "  <tbody>\n",
       "    <tr>\n",
       "      <th>0</th>\n",
       "      <td>120.71</td>\n",
       "      <td>2.0825</td>\n",
       "      <td>0.53</td>\n",
       "      <td>0.6100</td>\n",
       "      <td>84.17</td>\n",
       "      <td>40.3700</td>\n",
       "    </tr>\n",
       "    <tr>\n",
       "      <th>1</th>\n",
       "      <td>140.25</td>\n",
       "      <td>2.0825</td>\n",
       "      <td>0.10</td>\n",
       "      <td>0.9100</td>\n",
       "      <td>88.81</td>\n",
       "      <td>39.4800</td>\n",
       "    </tr>\n",
       "    <tr>\n",
       "      <th>2</th>\n",
       "      <td>107.01</td>\n",
       "      <td>1.3100</td>\n",
       "      <td>0.19</td>\n",
       "      <td>0.4800</td>\n",
       "      <td>81.49</td>\n",
       "      <td>45.8025</td>\n",
       "    </tr>\n",
       "    <tr>\n",
       "      <th>3</th>\n",
       "      <td>88.81</td>\n",
       "      <td>0.7600</td>\n",
       "      <td>0.33</td>\n",
       "      <td>0.3900</td>\n",
       "      <td>61.80</td>\n",
       "      <td>27.4200</td>\n",
       "    </tr>\n",
       "    <tr>\n",
       "      <th>4</th>\n",
       "      <td>75.05</td>\n",
       "      <td>0.6000</td>\n",
       "      <td>0.41</td>\n",
       "      <td>1.3225</td>\n",
       "      <td>48.71</td>\n",
       "      <td>19.2300</td>\n",
       "    </tr>\n",
       "  </tbody>\n",
       "</table>\n",
       "</div>"
      ],
      "text/plain": [
       "     PM10      Pb    Cu      Cr    NOx      SO2\n",
       "0  120.71  2.0825  0.53  0.6100  84.17  40.3700\n",
       "1  140.25  2.0825  0.10  0.9100  88.81  39.4800\n",
       "2  107.01  1.3100  0.19  0.4800  81.49  45.8025\n",
       "3   88.81  0.7600  0.33  0.3900  61.80  27.4200\n",
       "4   75.05  0.6000  0.41  1.3225  48.71  19.2300"
      ]
     },
     "execution_count": 30,
     "metadata": {},
     "output_type": "execute_result"
    }
   ],
   "source": [
    "df.head()"
   ]
  },
  {
   "cell_type": "code",
   "execution_count": 31,
   "id": "65630add",
   "metadata": {},
   "outputs": [],
   "source": [
    "# Putting feature variable to X\n",
    "X = df.drop('PM10', axis= 1)\n",
    "\n",
    "# Putting response variable to y\n",
    "y = df[['PM10']]\n",
    "\n",
    "#random_state is the seed used by the random number generator. It can be any integer.\n",
    "from sklearn.model_selection import train_test_split\n",
    "X_train, X_test, y_train, y_test =train_test_split(X, y, train_size=0.7 ,random_state=120)"
   ]
  },
  {
   "cell_type": "markdown",
   "id": "741f8d04",
   "metadata": {},
   "source": [
    "# Step 5 "
   ]
  },
  {
   "cell_type": "code",
   "execution_count": 32,
   "id": "c680cbe5",
   "metadata": {},
   "outputs": [
    {
     "data": {
      "text/html": [
       "<div>\n",
       "<style scoped>\n",
       "    .dataframe tbody tr th:only-of-type {\n",
       "        vertical-align: middle;\n",
       "    }\n",
       "\n",
       "    .dataframe tbody tr th {\n",
       "        vertical-align: top;\n",
       "    }\n",
       "\n",
       "    .dataframe thead th {\n",
       "        text-align: right;\n",
       "    }\n",
       "</style>\n",
       "<table border=\"1\" class=\"dataframe\">\n",
       "  <thead>\n",
       "    <tr style=\"text-align: right;\">\n",
       "      <th></th>\n",
       "      <th>PM10</th>\n",
       "      <th>Pb</th>\n",
       "      <th>Cu</th>\n",
       "      <th>Cr</th>\n",
       "      <th>NOx</th>\n",
       "      <th>SO2</th>\n",
       "    </tr>\n",
       "  </thead>\n",
       "  <tbody>\n",
       "    <tr>\n",
       "      <th>125</th>\n",
       "      <td>26.19</td>\n",
       "      <td>0.00</td>\n",
       "      <td>0.16</td>\n",
       "      <td>0.04</td>\n",
       "      <td>22.14</td>\n",
       "      <td>10.93</td>\n",
       "    </tr>\n",
       "    <tr>\n",
       "      <th>48</th>\n",
       "      <td>40.92</td>\n",
       "      <td>0.39</td>\n",
       "      <td>0.08</td>\n",
       "      <td>0.21</td>\n",
       "      <td>26.00</td>\n",
       "      <td>13.66</td>\n",
       "    </tr>\n",
       "    <tr>\n",
       "      <th>149</th>\n",
       "      <td>52.10</td>\n",
       "      <td>0.48</td>\n",
       "      <td>0.04</td>\n",
       "      <td>0.06</td>\n",
       "      <td>42.08</td>\n",
       "      <td>22.95</td>\n",
       "    </tr>\n",
       "    <tr>\n",
       "      <th>55</th>\n",
       "      <td>90.48</td>\n",
       "      <td>0.72</td>\n",
       "      <td>0.00</td>\n",
       "      <td>0.02</td>\n",
       "      <td>39.16</td>\n",
       "      <td>15.72</td>\n",
       "    </tr>\n",
       "    <tr>\n",
       "      <th>63</th>\n",
       "      <td>141.11</td>\n",
       "      <td>1.39</td>\n",
       "      <td>0.53</td>\n",
       "      <td>0.71</td>\n",
       "      <td>80.72</td>\n",
       "      <td>34.31</td>\n",
       "    </tr>\n",
       "  </tbody>\n",
       "</table>\n",
       "</div>"
      ],
      "text/plain": [
       "       PM10    Pb    Cu    Cr    NOx    SO2\n",
       "125   26.19  0.00  0.16  0.04  22.14  10.93\n",
       "48    40.92  0.39  0.08  0.21  26.00  13.66\n",
       "149   52.10  0.48  0.04  0.06  42.08  22.95\n",
       "55    90.48  0.72  0.00  0.02  39.16  15.72\n",
       "63   141.11  1.39  0.53  0.71  80.72  34.31"
      ]
     },
     "execution_count": 32,
     "metadata": {},
     "output_type": "execute_result"
    }
   ],
   "source": [
    "df = pd.concat([y_train, X_train], axis=1)\n",
    "df.head()"
   ]
  },
  {
   "cell_type": "markdown",
   "id": "8e3a15de",
   "metadata": {},
   "source": [
    "## Correlation Matrix"
   ]
  },
  {
   "cell_type": "code",
   "execution_count": 33,
   "id": "193473bd",
   "metadata": {},
   "outputs": [
    {
     "data": {
      "text/html": [
       "<div>\n",
       "<style scoped>\n",
       "    .dataframe tbody tr th:only-of-type {\n",
       "        vertical-align: middle;\n",
       "    }\n",
       "\n",
       "    .dataframe tbody tr th {\n",
       "        vertical-align: top;\n",
       "    }\n",
       "\n",
       "    .dataframe thead th {\n",
       "        text-align: right;\n",
       "    }\n",
       "</style>\n",
       "<table border=\"1\" class=\"dataframe\">\n",
       "  <thead>\n",
       "    <tr style=\"text-align: right;\">\n",
       "      <th></th>\n",
       "      <th>PM10</th>\n",
       "      <th>Pb</th>\n",
       "      <th>Cu</th>\n",
       "      <th>Cr</th>\n",
       "      <th>NOx</th>\n",
       "      <th>SO2</th>\n",
       "    </tr>\n",
       "  </thead>\n",
       "  <tbody>\n",
       "    <tr>\n",
       "      <th>PM10</th>\n",
       "      <td>1.00</td>\n",
       "      <td>0.88</td>\n",
       "      <td>0.70</td>\n",
       "      <td>0.84</td>\n",
       "      <td>0.55</td>\n",
       "      <td>0.52</td>\n",
       "    </tr>\n",
       "    <tr>\n",
       "      <th>Pb</th>\n",
       "      <td>0.88</td>\n",
       "      <td>1.00</td>\n",
       "      <td>0.64</td>\n",
       "      <td>0.77</td>\n",
       "      <td>0.65</td>\n",
       "      <td>0.60</td>\n",
       "    </tr>\n",
       "    <tr>\n",
       "      <th>Cu</th>\n",
       "      <td>0.70</td>\n",
       "      <td>0.64</td>\n",
       "      <td>1.00</td>\n",
       "      <td>0.76</td>\n",
       "      <td>0.44</td>\n",
       "      <td>0.43</td>\n",
       "    </tr>\n",
       "    <tr>\n",
       "      <th>Cr</th>\n",
       "      <td>0.84</td>\n",
       "      <td>0.77</td>\n",
       "      <td>0.76</td>\n",
       "      <td>1.00</td>\n",
       "      <td>0.48</td>\n",
       "      <td>0.44</td>\n",
       "    </tr>\n",
       "    <tr>\n",
       "      <th>NOx</th>\n",
       "      <td>0.55</td>\n",
       "      <td>0.65</td>\n",
       "      <td>0.44</td>\n",
       "      <td>0.48</td>\n",
       "      <td>1.00</td>\n",
       "      <td>0.86</td>\n",
       "    </tr>\n",
       "    <tr>\n",
       "      <th>SO2</th>\n",
       "      <td>0.52</td>\n",
       "      <td>0.60</td>\n",
       "      <td>0.43</td>\n",
       "      <td>0.44</td>\n",
       "      <td>0.86</td>\n",
       "      <td>1.00</td>\n",
       "    </tr>\n",
       "  </tbody>\n",
       "</table>\n",
       "</div>"
      ],
      "text/plain": [
       "      PM10    Pb    Cu    Cr   NOx   SO2\n",
       "PM10  1.00  0.88  0.70  0.84  0.55  0.52\n",
       "Pb    0.88  1.00  0.64  0.77  0.65  0.60\n",
       "Cu    0.70  0.64  1.00  0.76  0.44  0.43\n",
       "Cr    0.84  0.77  0.76  1.00  0.48  0.44\n",
       "NOx   0.55  0.65  0.44  0.48  1.00  0.86\n",
       "SO2   0.52  0.60  0.43  0.44  0.86  1.00"
      ]
     },
     "execution_count": 33,
     "metadata": {},
     "output_type": "execute_result"
    }
   ],
   "source": [
    "np.round(df.corr(),2)"
   ]
  },
  {
   "cell_type": "code",
   "execution_count": 34,
   "id": "4dd37115",
   "metadata": {},
   "outputs": [
    {
     "data": {
      "text/plain": [
       "<AxesSubplot:>"
      ]
     },
     "execution_count": 34,
     "metadata": {},
     "output_type": "execute_result"
    },
    {
     "data": {
      "image/png": "[encoded data removed]",
      "text/plain": [
       "<Figure size 432x288 with 2 Axes>"
      ]
     },
     "metadata": {
      "needs_background": "light"
     },
     "output_type": "display_data"
    }
   ],
   "source": [
    "sns.heatmap(np.round(df.corr(),2),annot = True)"
   ]
  },
  {
   "cell_type": "code",
   "execution_count": 35,
   "id": "35a98bad",
   "metadata": {},
   "outputs": [
    {
     "data": {
      "text/plain": [
       "Pb     7.687853\n",
       "Cu     3.751185\n",
       "Cr     6.589538\n",
       "SO2    3.835246\n",
       "dtype: float64"
      ]
     },
     "execution_count": 35,
     "metadata": {},
     "output_type": "execute_result"
    }
   ],
   "source": [
    "X1=df.drop(['PM10','NOx'],axis=1)\n",
    "series_before = pd.Series([variance_inflation_factor(X1.values, i) \n",
    "                           for i in range(X1.shape[1])],  # i=0,1,2\n",
    "                          index=X1.columns)  # column name\n",
    "series_before "
   ]
  },
  {
   "cell_type": "markdown",
   "id": "ddfda3e4",
   "metadata": {},
   "source": [
    "# Step 9 "
   ]
  },
  {
   "cell_type": "code",
   "execution_count": 36,
   "id": "631c2967",
   "metadata": {},
   "outputs": [
    {
     "data": {
      "text/html": [
       "<table class=\"simpletable\">\n",
       "<caption>OLS Regression Results</caption>\n",
       "<tr>\n",
       "  <th>Dep. Variable:</th>          <td>PM10</td>       <th>  R-squared:         </th> <td>   0.842</td>\n",
       "</tr>\n",
       "<tr>\n",
       "  <th>Model:</th>                   <td>OLS</td>       <th>  Adj. R-squared:    </th> <td>   0.836</td>\n",
       "</tr>\n",
       "<tr>\n",
       "  <th>Method:</th>             <td>Least Squares</td>  <th>  F-statistic:       </th> <td>   133.6</td>\n",
       "</tr>\n",
       "<tr>\n",
       "  <th>Date:</th>             <td>Fri, 25 Nov 2022</td> <th>  Prob (F-statistic):</th> <td>3.25e-39</td>\n",
       "</tr>\n",
       "<tr>\n",
       "  <th>Time:</th>                 <td>22:29:56</td>     <th>  Log-Likelihood:    </th> <td> -435.83</td>\n",
       "</tr>\n",
       "<tr>\n",
       "  <th>No. Observations:</th>      <td>   105</td>      <th>  AIC:               </th> <td>   881.7</td>\n",
       "</tr>\n",
       "<tr>\n",
       "  <th>Df Residuals:</th>          <td>   100</td>      <th>  BIC:               </th> <td>   894.9</td>\n",
       "</tr>\n",
       "<tr>\n",
       "  <th>Df Model:</th>              <td>     4</td>      <th>                     </th>     <td> </td>   \n",
       "</tr>\n",
       "<tr>\n",
       "  <th>Covariance Type:</th>      <td>nonrobust</td>    <th>                     </th>     <td> </td>   \n",
       "</tr>\n",
       "</table>\n",
       "<table class=\"simpletable\">\n",
       "<tr>\n",
       "      <td></td>         <th>coef</th>     <th>std err</th>      <th>t</th>      <th>P>|t|</th>  <th>[0.025</th>    <th>0.975]</th>  \n",
       "</tr>\n",
       "<tr>\n",
       "  <th>Intercept</th> <td>   22.6108</td> <td>    3.865</td> <td>    5.850</td> <td> 0.000</td> <td>   14.942</td> <td>   30.279</td>\n",
       "</tr>\n",
       "<tr>\n",
       "  <th>Pb</th>        <td>   43.6485</td> <td>    5.405</td> <td>    8.076</td> <td> 0.000</td> <td>   32.926</td> <td>   54.371</td>\n",
       "</tr>\n",
       "<tr>\n",
       "  <th>Cu</th>        <td>    6.6132</td> <td>    7.008</td> <td>    0.944</td> <td> 0.348</td> <td>   -7.291</td> <td>   20.517</td>\n",
       "</tr>\n",
       "<tr>\n",
       "  <th>Cr</th>        <td>   40.1701</td> <td>    8.294</td> <td>    4.843</td> <td> 0.000</td> <td>   23.715</td> <td>   56.625</td>\n",
       "</tr>\n",
       "<tr>\n",
       "  <th>SO2</th>       <td>   -0.0051</td> <td>    0.205</td> <td>   -0.025</td> <td> 0.980</td> <td>   -0.412</td> <td>    0.401</td>\n",
       "</tr>\n",
       "</table>\n",
       "<table class=\"simpletable\">\n",
       "<tr>\n",
       "  <th>Omnibus:</th>       <td> 2.997</td> <th>  Durbin-Watson:     </th> <td>   2.065</td>\n",
       "</tr>\n",
       "<tr>\n",
       "  <th>Prob(Omnibus):</th> <td> 0.224</td> <th>  Jarque-Bera (JB):  </th> <td>   2.765</td>\n",
       "</tr>\n",
       "<tr>\n",
       "  <th>Skew:</th>          <td> 0.397</td> <th>  Prob(JB):          </th> <td>   0.251</td>\n",
       "</tr>\n",
       "<tr>\n",
       "  <th>Kurtosis:</th>      <td> 2.974</td> <th>  Cond. No.          </th> <td>    151.</td>\n",
       "</tr>\n",
       "</table><br/><br/>Notes:<br/>[1] Standard Errors assume that the covariance matrix of the errors is correctly specified."
      ],
      "text/plain": [
       "<class 'statsmodels.iolib.summary.Summary'>\n",
       "\"\"\"\n",
       "                            OLS Regression Results                            \n",
       "==============================================================================\n",
       "Dep. Variable:                   PM10   R-squared:                       0.842\n",
       "Model:                            OLS   Adj. R-squared:                  0.836\n",
       "Method:                 Least Squares   F-statistic:                     133.6\n",
       "Date:                Fri, 25 Nov 2022   Prob (F-statistic):           3.25e-39\n",
       "Time:                        22:29:56   Log-Likelihood:                -435.83\n",
       "No. Observations:                 105   AIC:                             881.7\n",
       "Df Residuals:                     100   BIC:                             894.9\n",
       "Df Model:                           4                                         \n",
       "Covariance Type:            nonrobust                                         \n",
       "==============================================================================\n",
       "                 coef    std err          t      P>|t|      [0.025      0.975]\n",
       "------------------------------------------------------------------------------\n",
       "Intercept     22.6108      3.865      5.850      0.000      14.942      30.279\n",
       "Pb            43.6485      5.405      8.076      0.000      32.926      54.371\n",
       "Cu             6.6132      7.008      0.944      0.348      -7.291      20.517\n",
       "Cr            40.1701      8.294      4.843      0.000      23.715      56.625\n",
       "SO2           -0.0051      0.205     -0.025      0.980      -0.412       0.401\n",
       "==============================================================================\n",
       "Omnibus:                        2.997   Durbin-Watson:                   2.065\n",
       "Prob(Omnibus):                  0.224   Jarque-Bera (JB):                2.765\n",
       "Skew:                           0.397   Prob(JB):                        0.251\n",
       "Kurtosis:                       2.974   Cond. No.                         151.\n",
       "==============================================================================\n",
       "\n",
       "Notes:\n",
       "[1] Standard Errors assume that the covariance matrix of the errors is correctly specified.\n",
       "\"\"\""
      ]
     },
     "execution_count": 36,
     "metadata": {},
     "output_type": "execute_result"
    }
   ],
   "source": [
    "import statsmodels.formula.api as smf\n",
    "model = smf.ols('PM10 ~ Pb + Cu + Cr + SO2',data=df).fit()\n",
    "model.summary()"
   ]
  },
  {
   "cell_type": "code",
   "execution_count": 37,
   "id": "d757d09a",
   "metadata": {},
   "outputs": [
    {
     "data": {
      "text/html": [
       "<table class=\"simpletable\">\n",
       "<caption>OLS Regression Results</caption>\n",
       "<tr>\n",
       "  <th>Dep. Variable:</th>          <td>PM10</td>       <th>  R-squared:         </th> <td>   0.841</td>\n",
       "</tr>\n",
       "<tr>\n",
       "  <th>Model:</th>                   <td>OLS</td>       <th>  Adj. R-squared:    </th> <td>   0.838</td>\n",
       "</tr>\n",
       "<tr>\n",
       "  <th>Method:</th>             <td>Least Squares</td>  <th>  F-statistic:       </th> <td>   269.7</td>\n",
       "</tr>\n",
       "<tr>\n",
       "  <th>Date:</th>             <td>Fri, 25 Nov 2022</td> <th>  Prob (F-statistic):</th> <td>1.87e-41</td>\n",
       "</tr>\n",
       "<tr>\n",
       "  <th>Time:</th>                 <td>22:29:56</td>     <th>  Log-Likelihood:    </th> <td> -436.30</td>\n",
       "</tr>\n",
       "<tr>\n",
       "  <th>No. Observations:</th>      <td>   105</td>      <th>  AIC:               </th> <td>   878.6</td>\n",
       "</tr>\n",
       "<tr>\n",
       "  <th>Df Residuals:</th>          <td>   102</td>      <th>  BIC:               </th> <td>   886.6</td>\n",
       "</tr>\n",
       "<tr>\n",
       "  <th>Df Model:</th>              <td>     2</td>      <th>                     </th>     <td> </td>   \n",
       "</tr>\n",
       "<tr>\n",
       "  <th>Covariance Type:</th>      <td>nonrobust</td>    <th>                     </th>     <td> </td>   \n",
       "</tr>\n",
       "</table>\n",
       "<table class=\"simpletable\">\n",
       "<tr>\n",
       "      <td></td>         <th>coef</th>     <th>std err</th>      <th>t</th>      <th>P>|t|</th>  <th>[0.025</th>    <th>0.975]</th>  \n",
       "</tr>\n",
       "<tr>\n",
       "  <th>Intercept</th> <td>   22.4490</td> <td>    2.407</td> <td>    9.328</td> <td> 0.000</td> <td>   17.675</td> <td>   27.223</td>\n",
       "</tr>\n",
       "<tr>\n",
       "  <th>Pb</th>        <td>   44.2223</td> <td>    4.791</td> <td>    9.230</td> <td> 0.000</td> <td>   34.719</td> <td>   53.726</td>\n",
       "</tr>\n",
       "<tr>\n",
       "  <th>Cr</th>        <td>   44.4242</td> <td>    6.901</td> <td>    6.438</td> <td> 0.000</td> <td>   30.737</td> <td>   58.111</td>\n",
       "</tr>\n",
       "</table>\n",
       "<table class=\"simpletable\">\n",
       "<tr>\n",
       "  <th>Omnibus:</th>       <td> 2.564</td> <th>  Durbin-Watson:     </th> <td>   2.022</td>\n",
       "</tr>\n",
       "<tr>\n",
       "  <th>Prob(Omnibus):</th> <td> 0.278</td> <th>  Jarque-Bera (JB):  </th> <td>   2.275</td>\n",
       "</tr>\n",
       "<tr>\n",
       "  <th>Skew:</th>          <td> 0.360</td> <th>  Prob(JB):          </th> <td>   0.321</td>\n",
       "</tr>\n",
       "<tr>\n",
       "  <th>Kurtosis:</th>      <td> 3.019</td> <th>  Cond. No.          </th> <td>    6.62</td>\n",
       "</tr>\n",
       "</table><br/><br/>Notes:<br/>[1] Standard Errors assume that the covariance matrix of the errors is correctly specified."
      ],
      "text/plain": [
       "<class 'statsmodels.iolib.summary.Summary'>\n",
       "\"\"\"\n",
       "                            OLS Regression Results                            \n",
       "==============================================================================\n",
       "Dep. Variable:                   PM10   R-squared:                       0.841\n",
       "Model:                            OLS   Adj. R-squared:                  0.838\n",
       "Method:                 Least Squares   F-statistic:                     269.7\n",
       "Date:                Fri, 25 Nov 2022   Prob (F-statistic):           1.87e-41\n",
       "Time:                        22:29:56   Log-Likelihood:                -436.30\n",
       "No. Observations:                 105   AIC:                             878.6\n",
       "Df Residuals:                     102   BIC:                             886.6\n",
       "Df Model:                           2                                         \n",
       "Covariance Type:            nonrobust                                         \n",
       "==============================================================================\n",
       "                 coef    std err          t      P>|t|      [0.025      0.975]\n",
       "------------------------------------------------------------------------------\n",
       "Intercept     22.4490      2.407      9.328      0.000      17.675      27.223\n",
       "Pb            44.2223      4.791      9.230      0.000      34.719      53.726\n",
       "Cr            44.4242      6.901      6.438      0.000      30.737      58.111\n",
       "==============================================================================\n",
       "Omnibus:                        2.564   Durbin-Watson:                   2.022\n",
       "Prob(Omnibus):                  0.278   Jarque-Bera (JB):                2.275\n",
       "Skew:                           0.360   Prob(JB):                        0.321\n",
       "Kurtosis:                       3.019   Cond. No.                         6.62\n",
       "==============================================================================\n",
       "\n",
       "Notes:\n",
       "[1] Standard Errors assume that the covariance matrix of the errors is correctly specified.\n",
       "\"\"\""
      ]
     },
     "execution_count": 37,
     "metadata": {},
     "output_type": "execute_result"
    }
   ],
   "source": [
    "import statsmodels.formula.api as smf\n",
    "model2 = smf.ols('PM10 ~ Pb + Cr',data=df).fit()\n",
    "model2.summary()"
   ]
  },
  {
   "cell_type": "markdown",
   "id": "947f5017",
   "metadata": {},
   "source": [
    "# Step 10"
   ]
  },
  {
   "cell_type": "code",
   "execution_count": 38,
   "id": "64af9e41",
   "metadata": {},
   "outputs": [
    {
     "data": {
      "text/html": [
       "<div>\n",
       "<style scoped>\n",
       "    .dataframe tbody tr th:only-of-type {\n",
       "        vertical-align: middle;\n",
       "    }\n",
       "\n",
       "    .dataframe tbody tr th {\n",
       "        vertical-align: top;\n",
       "    }\n",
       "\n",
       "    .dataframe thead th {\n",
       "        text-align: right;\n",
       "    }\n",
       "</style>\n",
       "<table border=\"1\" class=\"dataframe\">\n",
       "  <thead>\n",
       "    <tr style=\"text-align: right;\">\n",
       "      <th></th>\n",
       "      <th>PM10</th>\n",
       "      <th>Pb</th>\n",
       "      <th>Cu</th>\n",
       "      <th>Cr</th>\n",
       "      <th>NOx</th>\n",
       "      <th>SO2</th>\n",
       "      <th>fitted_value</th>\n",
       "      <th>residual</th>\n",
       "    </tr>\n",
       "  </thead>\n",
       "  <tbody>\n",
       "    <tr>\n",
       "      <th>125</th>\n",
       "      <td>26.19</td>\n",
       "      <td>0.00</td>\n",
       "      <td>0.16</td>\n",
       "      <td>0.04</td>\n",
       "      <td>22.14</td>\n",
       "      <td>10.93</td>\n",
       "      <td>24.225925</td>\n",
       "      <td>1.964075</td>\n",
       "    </tr>\n",
       "    <tr>\n",
       "      <th>48</th>\n",
       "      <td>40.92</td>\n",
       "      <td>0.39</td>\n",
       "      <td>0.08</td>\n",
       "      <td>0.21</td>\n",
       "      <td>26.00</td>\n",
       "      <td>13.66</td>\n",
       "      <td>49.024738</td>\n",
       "      <td>-8.104738</td>\n",
       "    </tr>\n",
       "    <tr>\n",
       "      <th>149</th>\n",
       "      <td>52.10</td>\n",
       "      <td>0.48</td>\n",
       "      <td>0.04</td>\n",
       "      <td>0.06</td>\n",
       "      <td>42.08</td>\n",
       "      <td>22.95</td>\n",
       "      <td>46.341115</td>\n",
       "      <td>5.758885</td>\n",
       "    </tr>\n",
       "    <tr>\n",
       "      <th>55</th>\n",
       "      <td>90.48</td>\n",
       "      <td>0.72</td>\n",
       "      <td>0.00</td>\n",
       "      <td>0.02</td>\n",
       "      <td>39.16</td>\n",
       "      <td>15.72</td>\n",
       "      <td>55.177501</td>\n",
       "      <td>35.302499</td>\n",
       "    </tr>\n",
       "    <tr>\n",
       "      <th>63</th>\n",
       "      <td>141.11</td>\n",
       "      <td>1.39</td>\n",
       "      <td>0.53</td>\n",
       "      <td>0.71</td>\n",
       "      <td>80.72</td>\n",
       "      <td>34.31</td>\n",
       "      <td>115.459146</td>\n",
       "      <td>25.650854</td>\n",
       "    </tr>\n",
       "  </tbody>\n",
       "</table>\n",
       "</div>"
      ],
      "text/plain": [
       "       PM10    Pb    Cu    Cr    NOx    SO2  fitted_value   residual\n",
       "125   26.19  0.00  0.16  0.04  22.14  10.93     24.225925   1.964075\n",
       "48    40.92  0.39  0.08  0.21  26.00  13.66     49.024738  -8.104738\n",
       "149   52.10  0.48  0.04  0.06  42.08  22.95     46.341115   5.758885\n",
       "55    90.48  0.72  0.00  0.02  39.16  15.72     55.177501  35.302499\n",
       "63   141.11  1.39  0.53  0.71  80.72  34.31    115.459146  25.650854"
      ]
     },
     "execution_count": 38,
     "metadata": {},
     "output_type": "execute_result"
    }
   ],
   "source": [
    "df['fitted_value']=model2.fittedvalues #Predicted Value\n",
    "df['residual']=model2.resid  #Error\n",
    "df.head()"
   ]
  },
  {
   "cell_type": "code",
   "execution_count": 39,
   "id": "41facfab",
   "metadata": {},
   "outputs": [
    {
     "data": {
      "text/plain": [
       "<AxesSubplot:xlabel='fitted_value', ylabel='residual'>"
      ]
     },
     "execution_count": 39,
     "metadata": {},
     "output_type": "execute_result"
    },
    {
     "data": {
      "image/png": "[encoded data removed]",
      "text/plain": [
       "<Figure size 432x288 with 1 Axes>"
      ]
     },
     "metadata": {
      "needs_background": "light"
     },
     "output_type": "display_data"
    }
   ],
   "source": [
    "sns.scatterplot(x='fitted_value', y='residual',data=df)"
   ]
  },
  {
   "cell_type": "code",
   "execution_count": 40,
   "id": "ff8940ff",
   "metadata": {},
   "outputs": [
    {
     "data": {
      "image/png": "[encoded data removed]",
      "text/plain": [
       "<Figure size 432x288 with 1 Axes>"
      ]
     },
     "metadata": {
      "needs_background": "light"
     },
     "output_type": "display_data"
    }
   ],
   "source": [
    "import statsmodels.api as sm\n",
    "fig = sm.qqplot(df['residual'], fit=True, line='s') # s indicate standardized line\n",
    "plt.show()"
   ]
  },
  {
   "cell_type": "code",
   "execution_count": 41,
   "id": "6c157140",
   "metadata": {},
   "outputs": [
    {
     "data": {
      "text/plain": [
       "<AxesSubplot:ylabel='Frequency'>"
      ]
     },
     "execution_count": 41,
     "metadata": {},
     "output_type": "execute_result"
    },
    {
     "data": {
      "image/png": "[encoded data removed]",
      "text/plain": [
       "<Figure size 432x288 with 1 Axes>"
      ]
     },
     "metadata": {
      "needs_background": "light"
     },
     "output_type": "display_data"
    }
   ],
   "source": [
    "df['residual'].plot.hist()"
   ]
  },
  {
   "cell_type": "markdown",
   "id": "05224ea5",
   "metadata": {},
   "source": [
    "# Step 11  = Working on Test "
   ]
  },
  {
   "cell_type": "code",
   "execution_count": 42,
   "id": "64566e54",
   "metadata": {},
   "outputs": [
    {
     "data": {
      "text/html": [
       "<div>\n",
       "<style scoped>\n",
       "    .dataframe tbody tr th:only-of-type {\n",
       "        vertical-align: middle;\n",
       "    }\n",
       "\n",
       "    .dataframe tbody tr th {\n",
       "        vertical-align: top;\n",
       "    }\n",
       "\n",
       "    .dataframe thead th {\n",
       "        text-align: right;\n",
       "    }\n",
       "</style>\n",
       "<table border=\"1\" class=\"dataframe\">\n",
       "  <thead>\n",
       "    <tr style=\"text-align: right;\">\n",
       "      <th></th>\n",
       "      <th>Pb</th>\n",
       "      <th>Cu</th>\n",
       "      <th>Cr</th>\n",
       "      <th>NOx</th>\n",
       "      <th>SO2</th>\n",
       "      <th>PM10</th>\n",
       "    </tr>\n",
       "  </thead>\n",
       "  <tbody>\n",
       "    <tr>\n",
       "      <th>62</th>\n",
       "      <td>1.42</td>\n",
       "      <td>0.11</td>\n",
       "      <td>0.92</td>\n",
       "      <td>95.74</td>\n",
       "      <td>45.8025</td>\n",
       "      <td>153.89</td>\n",
       "    </tr>\n",
       "    <tr>\n",
       "      <th>143</th>\n",
       "      <td>0.00</td>\n",
       "      <td>0.00</td>\n",
       "      <td>0.00</td>\n",
       "      <td>30.52</td>\n",
       "      <td>24.5100</td>\n",
       "      <td>37.08</td>\n",
       "    </tr>\n",
       "    <tr>\n",
       "      <th>86</th>\n",
       "      <td>1.86</td>\n",
       "      <td>0.97</td>\n",
       "      <td>0.79</td>\n",
       "      <td>78.57</td>\n",
       "      <td>28.7700</td>\n",
       "      <td>99.98</td>\n",
       "    </tr>\n",
       "    <tr>\n",
       "      <th>80</th>\n",
       "      <td>0.81</td>\n",
       "      <td>0.83</td>\n",
       "      <td>0.54</td>\n",
       "      <td>39.49</td>\n",
       "      <td>14.8700</td>\n",
       "      <td>81.15</td>\n",
       "    </tr>\n",
       "    <tr>\n",
       "      <th>100</th>\n",
       "      <td>0.98</td>\n",
       "      <td>0.97</td>\n",
       "      <td>0.94</td>\n",
       "      <td>33.19</td>\n",
       "      <td>19.1500</td>\n",
       "      <td>101.86</td>\n",
       "    </tr>\n",
       "  </tbody>\n",
       "</table>\n",
       "</div>"
      ],
      "text/plain": [
       "       Pb    Cu    Cr    NOx      SO2    PM10\n",
       "62   1.42  0.11  0.92  95.74  45.8025  153.89\n",
       "143  0.00  0.00  0.00  30.52  24.5100   37.08\n",
       "86   1.86  0.97  0.79  78.57  28.7700   99.98\n",
       "80   0.81  0.83  0.54  39.49  14.8700   81.15\n",
       "100  0.98  0.97  0.94  33.19  19.1500  101.86"
      ]
     },
     "execution_count": 42,
     "metadata": {},
     "output_type": "execute_result"
    }
   ],
   "source": [
    "df_test=pd.concat([X_test,y_test],axis=1)\n",
    "\n",
    "df_test.head()"
   ]
  },
  {
   "cell_type": "code",
   "execution_count": 43,
   "id": "61f32f4d",
   "metadata": {},
   "outputs": [
    {
     "data": {
      "text/html": [
       "<div>\n",
       "<style scoped>\n",
       "    .dataframe tbody tr th:only-of-type {\n",
       "        vertical-align: middle;\n",
       "    }\n",
       "\n",
       "    .dataframe tbody tr th {\n",
       "        vertical-align: top;\n",
       "    }\n",
       "\n",
       "    .dataframe thead th {\n",
       "        text-align: right;\n",
       "    }\n",
       "</style>\n",
       "<table border=\"1\" class=\"dataframe\">\n",
       "  <thead>\n",
       "    <tr style=\"text-align: right;\">\n",
       "      <th></th>\n",
       "      <th>Pb</th>\n",
       "      <th>Cu</th>\n",
       "      <th>Cr</th>\n",
       "      <th>NOx</th>\n",
       "      <th>SO2</th>\n",
       "      <th>PM10</th>\n",
       "      <th>Prediction</th>\n",
       "    </tr>\n",
       "  </thead>\n",
       "  <tbody>\n",
       "    <tr>\n",
       "      <th>62</th>\n",
       "      <td>1.42</td>\n",
       "      <td>0.11</td>\n",
       "      <td>0.92</td>\n",
       "      <td>95.74</td>\n",
       "      <td>45.8025</td>\n",
       "      <td>153.89</td>\n",
       "      <td>126.114898</td>\n",
       "    </tr>\n",
       "    <tr>\n",
       "      <th>143</th>\n",
       "      <td>0.00</td>\n",
       "      <td>0.00</td>\n",
       "      <td>0.00</td>\n",
       "      <td>30.52</td>\n",
       "      <td>24.5100</td>\n",
       "      <td>37.08</td>\n",
       "      <td>22.448956</td>\n",
       "    </tr>\n",
       "    <tr>\n",
       "      <th>86</th>\n",
       "      <td>1.86</td>\n",
       "      <td>0.97</td>\n",
       "      <td>0.79</td>\n",
       "      <td>78.57</td>\n",
       "      <td>28.7700</td>\n",
       "      <td>99.98</td>\n",
       "      <td>139.797566</td>\n",
       "    </tr>\n",
       "    <tr>\n",
       "      <th>80</th>\n",
       "      <td>0.81</td>\n",
       "      <td>0.83</td>\n",
       "      <td>0.54</td>\n",
       "      <td>39.49</td>\n",
       "      <td>14.8700</td>\n",
       "      <td>81.15</td>\n",
       "      <td>82.258094</td>\n",
       "    </tr>\n",
       "    <tr>\n",
       "      <th>100</th>\n",
       "      <td>0.98</td>\n",
       "      <td>0.97</td>\n",
       "      <td>0.94</td>\n",
       "      <td>33.19</td>\n",
       "      <td>19.1500</td>\n",
       "      <td>101.86</td>\n",
       "      <td>107.545567</td>\n",
       "    </tr>\n",
       "  </tbody>\n",
       "</table>\n",
       "</div>"
      ],
      "text/plain": [
       "       Pb    Cu    Cr    NOx      SO2    PM10  Prediction\n",
       "62   1.42  0.11  0.92  95.74  45.8025  153.89  126.114898\n",
       "143  0.00  0.00  0.00  30.52  24.5100   37.08   22.448956\n",
       "86   1.86  0.97  0.79  78.57  28.7700   99.98  139.797566\n",
       "80   0.81  0.83  0.54  39.49  14.8700   81.15   82.258094\n",
       "100  0.98  0.97  0.94  33.19  19.1500  101.86  107.545567"
      ]
     },
     "execution_count": 43,
     "metadata": {},
     "output_type": "execute_result"
    }
   ],
   "source": [
    "df_test['Prediction']=model2.predict(df_test) # predict = all row prediction ( Auto )\n",
    "df_test.head()"
   ]
  },
  {
   "cell_type": "code",
   "execution_count": 44,
   "id": "572521f4",
   "metadata": {},
   "outputs": [
    {
     "name": "stdout",
     "output_type": "stream",
     "text": [
      "R2 score for model Performance on Test 0.74\n"
     ]
    }
   ],
   "source": [
    "from sklearn.metrics import r2_score\n",
    "r2 = r2_score(df_test.PM10, df_test.Prediction)\n",
    "print('R2 score for model Performance on Test', np.round(r2,2))"
   ]
  },
  {
   "cell_type": "code",
   "execution_count": null,
   "id": "e237191f",
   "metadata": {},
   "outputs": [],
   "source": []
  }
 ],
 "metadata": {
  "kernelspec": {
   "display_name": "Python 3 (ipykernel)",
   "language": "python",
   "name": "python3"
  },
  "language_info": {
   "codemirror_mode": {
    "name": "ipython",
    "version": 3
   },
   "file_extension": ".py",
   "mimetype": "text/x-python",
   "name": "python",
   "nbconvert_exporter": "python",
   "pygments_lexer": "ipython3",
   "version": "3.9.12"
  }
 },
 "nbformat": 4,
 "nbformat_minor": 5
}
